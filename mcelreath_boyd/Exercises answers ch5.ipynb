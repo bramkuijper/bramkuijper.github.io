{
 "cells": [
  {
   "cell_type": "code",
   "execution_count": 6,
   "metadata": {},
   "outputs": [
    {
     "data": {
      "application/javascript": [
       "MathJax.Hub.Config({\n",
       "    TeX: { equationNumbers: { autoNumber: \"AMS\" } }\n",
       "});\n",
       "MathJax.Hub.Queue(\n",
       "  [\"resetEquationNumbers\", MathJax.InputJax.TeX],\n",
       "  [\"PreProcess\", MathJax.Hub],\n",
       "  [\"Reprocess\", MathJax.Hub]\n",
       ");\n"
      ],
      "text/plain": [
       "<IPython.core.display.Javascript object>"
      ]
     },
     "metadata": {},
     "output_type": "display_data"
    }
   ],
   "source": [
    "%%javascript\n",
    "MathJax.Hub.Config({\n",
    "    TeX: { equationNumbers: { autoNumber: \"AMS\" } }\n",
    "});\n",
    "MathJax.Hub.Queue(\n",
    "  [\"resetEquationNumbers\", MathJax.InputJax.TeX],\n",
    "  [\"PreProcess\", MathJax.Hub],\n",
    "  [\"Reprocess\", MathJax.Hub]\n",
    ");"
   ]
  },
  {
   "cell_type": "markdown",
   "metadata": {},
   "source": [
    "# Exercises chapter 5\n",
    "\n",
    "## Exercise 1a"
   ]
  },
  {
   "cell_type": "markdown",
   "metadata": {},
   "source": [
    "Show that the strategy pair Always Give, Never Signal is also an ESS in the Sir Philip Sydney Game"
   ]
  },
  {
   "cell_type": "markdown",
   "metadata": {},
   "source": [
    "### Ex1a.1: can $AG$ donors resist invasion by $R$ donors?\n",
    "In order to show that $AG$,$NS$ strategy pairs are an ESS, we need to show that this population cannot be invaded by other strategies expressed by donors, namely $R$ and $NG$ (later on, we then deal with other strategies expressed by beneficiaries). Dealing with the case of invasion by $R$ expressed by donors first, we have\n",
    "\\begin{align}\n",
    "V_{D}\\left(AG \\mid NS \\right) + r V_{B} \\left(NS \\mid AG \\right ) &> V_{D} \\left (R \\mid NS \\right ) + r V_{B} \\left ( NS \\mid R \\right). \\label{eq:R_invades_AG:D}\n",
    "\\end{align}\n",
    "\n",
    "Writing out the payoffs, we have\n",
    "\\begin{align}\n",
    "V_{D}\\left(AG \\mid NS \\right) &= (1-p) (1-d) + p (1-d) = 1-d \\label{ex1:VD_AG_NS} \\\\\n",
    "V_{D} \\left(R \\mid NS \\right) &= (1-p) \\cdot 1 + p \\cdot 1 = 1 \\label{ex1:VD_R_NS} \\\\\n",
    "V_{B} \\left(NS \\mid AG \\right) &= (1-p)\\cdot 1  + p \\cdot 1 = 1 \\label{ex1:VB_NS_AG} \\\\\n",
    "V_{B} \\left(NS \\mid R \\right) &= (1-p)(1-b) + p ( 1- a) \\label{ex1:VB_NS_R}\n",
    "\\end{align}\n",
    "\n",
    "Substituting for these payoffs in eq. $\\eqref{eq:R_invades_AG:D}$, we then obtain\n",
    "\\begin{align}\n",
    "1-d + r  &> 1 + r \\left [ (1-p)(1-b) + p ( 1- a)\\right ] & \\\\\n",
    "1-d + r &> 1 + r \\left [ 1 -p -b +p b + p -ap \\right ] & \\text{expand}\\\\\n",
    "-d &> r \\left [ -b +p b -ap \\right ] & \\text{subtract }1 + r\\text {, in brackets: $-p + p$}\\\\\n",
    "-d &> r \\left [ -b (1 - p) -ap \\right ] & \\\\\n",
    "d &< r \\left [ b (1 - p) + ap \\right ]. \\label{eq:R_invades_AG:D:QED} & \\\\\n",
    "\\end{align}\n",
    "\n",
    "which is the condition from McE&B on p217 already. However, we are far from done yet, as we need to see whether $AG$ also resists invasion by $NG$ and then we still need to analyze behaviours expressed by beneficiaries."
   ]
  },
  {
   "cell_type": "markdown",
   "metadata": {},
   "source": [
    "### Ex1a.2: can $AG$ donors resist invasion by $NG$ donors?\n",
    "\n",
    "We have\n",
    "\\begin{align}\n",
    "V_{D}\\left(AG \\mid NS \\right) + r V_{B} \\left(NS \\mid AG \\right ) &> V_{D} \\left (NG \\mid NS \\right ) + r V_{B} \\left ( NS \\mid NG \\right), \\label{eq:NG_invades_AG:D}\n",
    "\\end{align}\n",
    "\n",
    "with the left-hand side being identical to that of eq. $\\eqref{eq:R_invades_AG:D}$, but now $NG$ occurs in the terms on the right-hand side. We now have to write out the following additional payoffs:\n",
    "\\begin{align}\n",
    "V_{D} \\left (NG \\mid NS \\right ) &= (1-p) \\cdot 1 + p \\cdot 1 = 1 \\label{ex1:VD_NG_NS} \\\\\n",
    "V_{B} \\left (NS \\mid NG \\right ) &= (1-p) (1-b) + p (1-a) \\label{ex1:VB_NS_NG}\n",
    "\\end{align}\n",
    "\n",
    "As these payoffs these are identical to our previously derived payoffs for the responder strategy (when expressed in donors), we again have the condition in eq. $\\eqref{eq:R_invades_AG:D:QED}$ and p217 of MCE&B."
   ]
  },
  {
   "cell_type": "markdown",
   "metadata": {},
   "source": [
    "### Ex1a.3: can $NS$ beneficiaries resist invasion by $R$ beneficiaries?\n",
    "\n",
    "Now we consider the beneficiaries' perspective, and assess resistance of a $NS$ beneficiary against the $R$ strategy, for which the ESS condition becomes:\n",
    "\\begin{align}\n",
    "V_{B} \\left (NS \\mid AG \\right ) + r V_{D} \\left (AG \\mid NS \\right) &> V_{B} \\left(R \\mid AG \\right) + r V_{D} \\left( AG \\mid R \\right). \\label{eq:R_invades_NS:B}\n",
    "\\end{align}\n",
    "\n",
    "We need to write out the following payoffs:\n",
    "\\begin{align}\n",
    "V_{B} \\left(R \\mid AG \\right) &= (1-p) \\cdot 1 + p (1-c) = 1 - pc\\\\\n",
    "V_{D} \\left(AG \\mid R \\right) &= (1-p)(1-d) + p (1-d) = 1-d\n",
    "\\end{align}\n",
    "\n",
    "and substuting (see also eqns. $\\eqref{ex1:VD_AG_NS},\\eqref{ex1:VB_NS_AG}$), we have\n",
    "\\begin{align}\n",
    "1 + r(1-d) &> 1 - pc + r(1-d) \\\\\n",
    "0 &> -pc \\\\\n",
    "0 &< pc\n",
    "\\end{align}\n",
    "which always holds, as $0<p<1$ and $c>0$."
   ]
  },
  {
   "cell_type": "markdown",
   "metadata": {},
   "source": [
    "### Ex1a.4: can $NS$ beneficiaries resist invasion by $AS$ beneficiaries?\n",
    "\n",
    "Now we assess resistance of a $NS$ beneficiary against the $AS$ strategy, for which the ESS condition becomes:\n",
    "\\begin{align}\n",
    "V_{B} \\left (NS \\mid AG \\right ) + r V_{D} \\left (AG \\mid NS \\right) &> V_{B} \\left (AS \\mid AG \\right) + r V_{D} \\left(AG \\mid AS \\right). \\label{eq:AS_invades_NS:B}\n",
    "\\end{align}\n",
    "\n",
    "Writing out the following payoffs:\n",
    "\\begin{align}\n",
    "V_{B} \\left (AS \\mid AG  \\right) &= (1-p)(1-c) + p(1-c) = (1-c)\\\\\n",
    "V_{D} \\left (AG \\mid AS \\right ) &= (1-p)(1-d) + p(1-d) = (1-d).\n",
    "\\end{align}\n",
    "\n",
    "and substuting (see also eqns. $\\eqref{ex1:VD_AG_NS},\\eqref{ex1:VB_NS_AG}$), we have\n",
    "\\begin{align}\n",
    "1 + r(1-d) &> (1-c) + r(1-d)\\\\\n",
    "1 &> 1-c\\\\\n",
    "0 &< c.\n",
    "\\end{align}\n",
    "\n",
    "which again always holds."
   ]
  },
  {
   "cell_type": "markdown",
   "metadata": {},
   "source": [
    "### Ex1a.5: interpretation of the $AG,NS$ ESS condition\n",
    "\n",
    "The ESS condition for $AG,NS$\n",
    "\\begin{align}\n",
    "d &< r \\left [ b (1 - p) + ap \\right ]\n",
    "\\end{align}\n",
    "simply describes that the cost of donating should be less than the inclusive fitness effect $\\Delta w_{B}$ of a beneficiary, who is either mildly wounded and would move from $1-b$ to $1$ or who is severely wounded and would move from $1-a$ to $1$ if it receives the unconditional donation."
   ]
  },
  {
   "cell_type": "markdown",
   "metadata": {},
   "source": [
    "## Ex1b when is $NG,NS$ robust to invasion?\n",
    "\n",
    "Now we need to calculate when $NG,NS $ cannot be invaded by other strategies. If we are lucky we should find that this happens when $d > r \\left [ b (1 - p) + ap \\right ]$.\n",
    "\n",
    "### Ex1b.1 can $NG$ donors resist invasion by $R$ donors?\n",
    "We have the ESS condition\n",
    "\\begin{align}\n",
    "V_{D} \\left ( NG \\mid NS \\right) + r V_{B} \\left(NS \\mid NG \\right) &> V_{D} \\left( R \\mid NS \\right)  + r V_{B} \\left ( NS \\mid R \\right).\n",
    "\\end{align}\n",
    "\n",
    "Substituting the expressions of the payoffs from eqns. $\\eqref{ex1:VD_NG_NS},\\eqref{ex1:VB_NS_NG}$ and eqns. $\\eqref{ex1:VD_R_NS},\\eqref{ex1:VB_NS_R}$ we have\n",
    "\\begin{align}\n",
    "1 + r \\left [(1-p) (1-b) + p (1-a)\\right] &> 1 + r \\left [ (1-p)(1-b) + p ( 1- a) \\right ],\n",
    "\\end{align}\n",
    "\n",
    "\n",
    "which obviously does not hold as lhs and rhs are identical. **Hence, although not through selection, $R$ can drift into a population of $NG$ donors**. $R$ donors can drift into a $NG$ population, as they play against $NS$ beneficiaries, so they will never donate anyway and hence have fitness identical to $NG$ donors."
   ]
  },
  {
   "cell_type": "markdown",
   "metadata": {},
   "source": [
    "### Ex1b.2 can $NG$ donors resist invasion by $AG$ donors?\n",
    "\n",
    "Naively writing out the ESS condition, we have\n",
    "\\begin{align}\n",
    "V_{D} \\left ( NG \\mid NS \\right) + r V_{B} \\left(NS \\mid NG \\right) &> V_{D} \\left( AG \\mid NS \\right)  + r V_{B} \\left ( NS \\mid AG \\right).\n",
    "\\end{align}\n",
    "\n",
    "This is just simply the opposite of eq. $\\eqref{eq:NG_invades_AG:D}$, which holds when\n",
    "\n",
    "\\begin{align}\n",
    "d &> r \\left [ b (1 - p) + ap \\right ]. \\label{eq:AG_invades_NS:D:QED} & \\\\\n",
    "\\end{align}\n",
    "\n",
    "as suggested by MCE&B."
   ]
  },
  {
   "cell_type": "markdown",
   "metadata": {},
   "source": [
    "### Ex1b.3 can $NS$ beneficiaries resist invasion by $R$ beneficiaries?\n",
    "\n",
    "We have the ESS condition\n",
    "\\begin{align}\n",
    "V_{B} \\left ( NS \\mid NG \\right) + r V_{D} \\left(NG \\mid NS \\right) &> V_{B} \\left (R \\mid NG \\right) + r V_{D} \\left(NG \\mid R \\right) &\\\\\n",
    "\\end{align}"
   ]
  },
  {
   "cell_type": "markdown",
   "metadata": {},
   "source": [
    "Writing out the payoffs\n",
    "\\begin{align}\n",
    "V_{B} \\left ( R \\mid NG \\right) &= (1-p)(1-b) +p(1-a-c) \\\\\n",
    "V_{D} \\left ( NG \\mid R \\right) &= (1-p)\\cdot 1 + p \\cdot 1 = 1.\n",
    "\\end{align}\n",
    "\n",
    "Substituting these expressions of the payoffs and those from eqns. $\\eqref{ex1:VD_NG_NS},\\eqref{ex1:VB_NS_NG}$, we have\n",
    "\n",
    "\\begin{align}\n",
    "(1-p) (1-b) + p (1-a) + r &> (1-p)(1-b) +p(1-a-c) + r \\\\\n",
    "p(1-a) &> p(1-a-c)\n",
    "\\end{align}\n",
    "\n",
    "which always holds, simply because a $R$ beneficiary will chiefly encounter $NG$ donors, so it will pay a signaling cost but never get anything back."
   ]
  },
  {
   "cell_type": "markdown",
   "metadata": {},
   "source": [
    "### Ex1b.4 can $NS$ beneficiaries resist invasion by $AS$ beneficiaries\n",
    "\n",
    "We have\n",
    "\\begin{align}\n",
    "V_{B} \\left ( NS \\mid NG \\right) + r V_{D} \\left(NG \\mid NS \\right) &> V_{B} \\left (AS \\mid NG \\right) + r V_{D} \\left(NG \\mid AS \\right)\n",
    "\\end{align}"
   ]
  },
  {
   "cell_type": "markdown",
   "metadata": {},
   "source": [
    "Writing out missing payoffs, we have\n",
    "\\begin{align}\n",
    "V_{D}\\left(NG \\mid AS \\right) &= (1-p)\\cdot 1 + p \\cdot 1 = 1\\\\\n",
    "V_{B}\\left(AS \\mid NG \\right) &= (1-p)(1-b-c) + p (1 - a -c)\n",
    "\\end{align}\n",
    "\n",
    "and substituting the payoffs from eqns. $\\eqref{ex1:VD_NG_NS},\\eqref{ex1:VB_NS_NG}$, we have\n",
    "\n",
    "\\begin{align}\n",
    "(1-p) (1-b) + p (1-a) + r &> (1-p)(1-b-c) + p (1 - a -c) + r\\\\\n",
    "(1-p) (1-b) + p (1-a) &> (1-p)(1-b-c) + p (1 - a -c)\\\\\n",
    "c &>0\n",
    "\\end{align}\n",
    "which always holds. Hence, eq. $\\eqref{eq:AG_invades_NS:D:QED}$ is the condition we are after here."
   ]
  },
  {
   "cell_type": "markdown",
   "metadata": {},
   "source": [
    "### Ex1b.5 Interpretation\n",
    "\n",
    "So we have seen that when $d>r((1-p)b+pa)$, $NG,NS$ is an ESS. That makes sense as the costs of donating (lhs) do not outweigh the inclusive fitness effect of related non-signaling recipients which obtain a gift. In that case $NG$ replaces $AG$. \n",
    "\n",
    "Finally, $R$ is able to drift into a $NG$ population."
   ]
  },
  {
   "cell_type": "markdown",
   "metadata": {},
   "source": [
    "## Exercise 2\n",
    "\n",
    "Show that donors in the non-signaling population have higher fitness if\n",
    "\\begin{align}\n",
    "b &> \\frac{d}{r} (1 - p)  + prd .\n",
    "\\end{align}"
   ]
  },
  {
   "cell_type": "markdown",
   "metadata": {},
   "source": [
    "### Ex2a.1 $R$ common: compute average fitness of donors\n",
    "\n",
    "When $R$ is common, we have\n",
    "\\begin{align}\n",
    "W_{D} \\left(R,R \\right) &= V_{D} \\left (R \\mid R \\right ) + r V_{B} \\left ( R \\mid R \\right)\\\\\n",
    "&= (1-p) + p(1-d) +r \\left [ (1-p)(1-b)+p(1-c) \\right ]\n",
    "\\end{align}\n",
    "where we use the payoffs on p181 in McE&B."
   ]
  },
  {
   "cell_type": "markdown",
   "metadata": {},
   "source": [
    "### Ex2a.2 $AG,NS$ common: compute average fitness of donors\n",
    "\n",
    "When $AG,NS$ is common, we have\n",
    "\\begin{align}\n",
    "W_{D}\\left(AG,NS\\right) &= V_{D} \\left(AG \\mid NS \\right) + r V_{B} \\left (NS \\mid AG \\right )\\\\\n",
    "&= 1-d +r \n",
    "\\end{align}\n",
    "where we substitute for payoffs by using eqns. $\\eqref{ex1:VD_AG_NS}$ and $\\eqref{ex1:VB_NS_AG}$."
   ]
  },
  {
   "cell_type": "markdown",
   "metadata": {},
   "source": [
    "### Ex2a.3 compare average fitnesses\n",
    "\n",
    "We have\n",
    "\\begin{align}\n",
    "W_{D} \\left ( AG, NS \\right ) &> W_{D} \\left (R,R \\right)\\\\\n",
    "1-d + r &>  (1-p) + p(1-d) +r \\left [ (1-p)(1-b)+p(1-c) \\right ] \\\\\n",
    "-d + r &>  -pd +r \\left [ (1-p)(1-b)+p(1-b+rd) \\right ] & \\text{substituting }\\hat{c} = c\\\\\n",
    "r &> d(1-p) + r \\left [ 1 - b + prd \\right ]\\\\\n",
    "0 &> d(1-p) -  rb + pr^{2}d \\\\\n",
    "b &> \\frac{d}{r}(1-p)  + prd\n",
    "\\end{align}\n",
    "\n",
    "and we are done. The interpretation (actually more intuitive with the penultimate eqn) is that $AG$ does better once the differential cost of donating is outweighed by the inclusive fitness effect incurred by a non-signaling beneficiary. The $pr^{2}d$ term however is more difficult to interpret."
   ]
  },
  {
   "cell_type": "markdown",
   "metadata": {},
   "source": [
    "## Ex2b.1 Now show that beneficiaries have a higher fitness than donors if $b>rd$"
   ]
  },
  {
   "cell_type": "markdown",
   "metadata": {},
   "source": [
    "This is not such a well posed question. Beneficiaries have a higher fitness than donors if \n",
    "\\begin{align}\n",
    "W_{B}\\left(NS,AG\\right) &> W_{D}\\left(AG,NS\\right) \\label{eq:Ex2b:WB_larger_than_WD}\n",
    "\\end{align}\n",
    "where the fitnesses are given by\n",
    "\\begin{align}\n",
    "W_{B}\\left(NS,AG\\right) &= V_{B} \\left(NS \\mid AG \\right) + r V_{D} \\left( AG \\mid NS \\right)\\\\\n",
    "W_{D}\\left(AG,NS\\right) &= V_{D} \\left(AG \\mid NS \\right) + r V_{B} \\left( NS \\mid AG \\right)\n",
    "\\end{align}\n",
    "Substituting for payoffs in $\\eqref{eq:Ex2b:WB_larger_than_WD}$, we have\n",
    "\\begin{align}\n",
    "W_{B}\\left(NS,AG\\right) &> W_{D}\\left(AG,NS\\right)\\\\\n",
    "1 + r(1-d) &> (1-d) + r\\\\\n",
    "1 + r - rd &> 1 - d + r\\\\\n",
    "- rd &> -d\\\\\n",
    "r < 1\n",
    "\\end{align}\n",
    "which always holds unless we have clonality. So I am not sure what MCE&B are on about.\n",
    "\n",
    "According to MCE&B, we need to instead assess the condition\n",
    "\\begin{align}\n",
    "W_{B}\\left(NS,AG\\right) &> W_{B} \\left (R, R \\right), \\label{eq:ex2:WB}\n",
    "\\end{align}\n",
    "where\n",
    "\\begin{align}\n",
    "W_{B} \\left (R, R \\right) &= V_{B} \\left ( R \\mid R \\right ) + r V_{D} \\left ( R \\mid R \\right).\n",
    "\\end{align}\n",
    "The condition in $\\eqref{eq:ex2:WB}$ is something different than showing that fitness of recipients is larger than donors. Rather, it is comparing average fitness of Never Signal, Always Give beneficiaries to Responder beneficiaries."
   ]
  },
  {
   "cell_type": "markdown",
   "metadata": {},
   "source": [
    "Substituting the payoffs in eqns. $\\eqref{ex1:VD_AG_NS}$ and $\\eqref{ex1:VB_NS_AG}$ and the payoffs on p181 of MCE&B, eq. $\\eqref{eq:ex2:WB}$ becomes\n",
    "\n",
    "\\begin{align}\n",
    "1 + r (1-d) &> (1-p)(1-b) + p (1 - c) + r \\left [ (1-p) + p(1-d) \\right ] \\\\\n",
    "1 + r (1-d) &> (1-p)(1-b) + p (1 - b + rd) + r \\left [ (1-p) + p(1-d) \\right ] & \\text{substituting }\\hat{c} = c \\\\\n",
    "1 + r - rd &> 1 - p - b + pb + p - bp + prd + r - rp + rp - rpd & \\text{expanding}\\\\\n",
    "-rd &> -b \\\\\n",
    " rd &< b \\\\\n",
    "\\end{align}"
   ]
  },
  {
   "cell_type": "markdown",
   "metadata": {},
   "source": [
    "which should always hold when signals are honest, as then $\\hat{c} = b - rd$, so $\\hat{c}>0$ when $b>rd$."
   ]
  },
  {
   "cell_type": "markdown",
   "metadata": {},
   "source": [
    "### Ex2c Show that there are parameter conditions in which both signaling and nonsignaling conditions are stable\n",
    "\n",
    "The idea sketched in the question falls far too short of what is eventually expected in the answers section. Being a responder (i.e., an honest signaler) is an ESS when $r < \\frac{d}{a}$ (see p182) and when $r < \\frac{b}{d}$ (see p183). \n",
    "\\begin{align}\n",
    "d < r \\left [ (1-p) b + pa \\right ]\\\\\n",
    "\\frac{\\frac{d}{r} - pa}{1-p} < b\n",
    "\\end{align}"
   ]
  },
  {
   "cell_type": "code",
   "execution_count": 7,
   "metadata": {},
   "outputs": [
    {
     "data": {
      "text/plain": [
       "<matplotlib.legend.Legend at 0x11affa5f8>"
      ]
     },
     "execution_count": 7,
     "metadata": {},
     "output_type": "execute_result"
    },
    {
     "data": {
      "image/png": "[encoded data removed]",
      "text/plain": [
       "<Figure size 432x288 with 1 Axes>"
      ]
     },
     "metadata": {
      "needs_background": "light"
     },
     "output_type": "display_data"
    }
   ],
   "source": [
    "import matplotlib.pyplot as plt\n",
    "import numpy as np\n",
    "\n",
    "p = np.linspace(0,0.99,50)\n",
    "r = 0.25\n",
    "d = 0.1\n",
    "a = 0.5\n",
    "\n",
    "plt.plot(p, d/r * (1-p) + p * r * d,label=r\"$\\frac{d}{r}(1-p)+p r d$\",color=\"blue\")\n",
    "plt.plot(p, (d/r - p * a)/(1-p),label=r\"$d < r((1-p)b + pa $\",color=\"black\")\n",
    "plt.hlines(y=r*d,xmin=0,xmax=1,label=\"$rd$\",color=\"red\")\n",
    "plt.legend()"
   ]
  },
  {
   "cell_type": "code",
   "execution_count": null,
   "metadata": {},
   "outputs": [],
   "source": []
  }
 ],
 "metadata": {
  "kernelspec": {
   "display_name": "Python 3",
   "language": "python",
   "name": "python3"
  },
  "language_info": {
   "codemirror_mode": {
    "name": "ipython",
    "version": 3
   },
   "file_extension": ".py",
   "mimetype": "text/x-python",
   "name": "python",
   "nbconvert_exporter": "python",
   "pygments_lexer": "ipython3",
   "version": "3.7.3"
  }
 },
 "nbformat": 4,
 "nbformat_minor": 4
}
