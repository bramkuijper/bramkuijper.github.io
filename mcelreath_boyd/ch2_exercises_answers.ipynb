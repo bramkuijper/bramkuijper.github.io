{
 "cells": [
  {
   "cell_type": "markdown",
   "metadata": {},
   "source": [
    "# Answers to exercises ch2 McE&B"
   ]
  },
  {
   "cell_type": "markdown",
   "metadata": {},
   "source": [
    "Before starting off, some code to turn on equation numbering:"
   ]
  },
  {
   "cell_type": "code",
   "execution_count": 12,
   "metadata": {},
   "outputs": [
    {
     "data": {
      "application/javascript": [
       "MathJax.Hub.Config({\n",
       "    TeX: { equationNumbers: { autoNumber: \"AMS\" } }\n",
       "});\n",
       "MathJax.Hub.Queue(\n",
       "  [\"resetEquationNumbers\", MathJax.InputJax.TeX],\n",
       "  [\"PreProcess\", MathJax.Hub],\n",
       "  [\"Reprocess\", MathJax.Hub]\n",
       ");\n"
      ],
      "text/plain": [
       "<IPython.core.display.Javascript object>"
      ]
     },
     "metadata": {},
     "output_type": "display_data"
    }
   ],
   "source": [
    "%%javascript\n",
    "MathJax.Hub.Config({\n",
    "    TeX: { equationNumbers: { autoNumber: \"AMS\" } }\n",
    "});\n",
    "MathJax.Hub.Queue(\n",
    "  [\"resetEquationNumbers\", MathJax.InputJax.TeX],\n",
    "  [\"PreProcess\", MathJax.Hub],\n",
    "  [\"Reprocess\", MathJax.Hub]\n",
    ");"
   ]
  },
  {
   "cell_type": "markdown",
   "metadata": {},
   "source": [
    "## Exercise 1a\n",
    "Show that the 'washing the dishes' game has the same payoff structure as the Hawk Dove game, with \\begin{align}\n",
    "V(H\\mid H) < V(D \\mid H) < V (D \\mid D) < V (H \\mid D),\n",
    "\\end{align} assuming that Wash = Dove and Rest = Hawk."
   ]
  },
  {
   "cell_type": "markdown",
   "metadata": {},
   "source": [
    "Let us calculate the different payoffs, starting at the rightmost element of the inequality above and working leftwards:\n",
    "\\begin{align}\n",
    "V (R \\mid W) = V (H \\mid D) &= b \\\\\n",
    "V (W \\mid W) = V (D \\mid D) &= b - \\frac{k}{2} \\\\\n",
    "V (W \\mid R) = V (D \\mid H) &= b - k \\\\\n",
    "V (R \\mid R) = V (H \\mid H) &= 0\n",
    "\\end{align}. \n",
    "\n",
    "Hence, if $b > k$ and $k\\geq0$, we have \n",
    "\\begin{align}\n",
    "0 < b - k < b - \\frac{k}{2} < b,\n",
    "\\end{align} so that it is indeed the same payoff structure as for a Hawk Dove game."
   ]
  },
  {
   "cell_type": "markdown",
   "metadata": {},
   "source": [
    "## Exercise 1b\n",
    "\n",
    "When $p$ is the frequency of Rest, show that the equilibrium frequency is \\begin{align}\n",
    "\\hat{p} = \\frac{k}{2b - k}.\n",
    "\\end{align}"
   ]
  },
  {
   "cell_type": "markdown",
   "metadata": {},
   "source": [
    "Following the formulation of the haploid difference equation at p41 of McE&B, we know that an internal equilibrium occurs whenever the fitness of the Rest strategy is equal to that of the Wash strategy, or $W_{R} = W_{W}$. Hence, let us derive expressions for $W_{R}$ and $W_{W}$:"
   ]
  },
  {
   "cell_type": "markdown",
   "metadata": {},
   "source": [
    "\\begin{align}\n",
    "W_{R} &= w_{0} + p \\cdot 0 + (1-p) b = (1-p)b\\\\\n",
    "W_{W} &= w_{0} + p (b-k) + (1-p) \\left ( b - \\frac{k}{2} \\right)\n",
    "\\end{align}\n",
    "\n",
    "We then put $W_{R} = W_{W} = W_{R} - W_{W} = 0$, substitute $p = \\hat{p}$ and solve for $\\hat{p}$, or\n",
    "\\begin{align}\n",
    "\\left . \\left( W_{R} - W_{W} \\right ) \\right |_{p=\\hat{p}} &= 0\\\\\n",
    "\\left ( 1 - \\hat{p} \\right) b - \\left [ \\hat{p} (b-k) + \\left (1 - \\hat{p} \\right ) \\left ( b - \\frac{k}{2} \\right) \\right ] & = 0\\\\\n",
    "- \\hat{p} (b - k) + \\left( 1- \\hat{p} \\right ) \\frac{k}{2}  &= 0\\\\\n",
    "\\hat{p} \\left ( \\frac{k}{2} - b \\right ) + \\frac{k}{2}  &= 0\\\\\n",
    "\\hat{p} \\left ( k - 2 b \\right ) + k  &= 0\\\\\n",
    "\\hat{p} &= \\frac{-k}{k - 2b} = \\frac{k}{2b -k}.\n",
    "\\end{align}"
   ]
  },
  {
   "cell_type": "markdown",
   "metadata": {},
   "source": [
    "### Exercise 1b in `sympy`"
   ]
  },
  {
   "cell_type": "code",
   "execution_count": 13,
   "metadata": {},
   "outputs": [
    {
     "data": {
      "image/png": "[encoded data removed]",
      "text/latex": [
       "$\\displaystyle \\left[ \\frac{k}{2 b - k}\\right]$"
      ],
      "text/plain": [
       "⎡   k   ⎤\n",
       "⎢───────⎥\n",
       "⎣2⋅b - k⎦"
      ]
     },
     "execution_count": 13,
     "metadata": {},
     "output_type": "execute_result"
    }
   ],
   "source": [
    "from sympy import *\n",
    "init_printing()\n",
    "\n",
    "phat, k, b = symbols(\"phat,k,b\")\n",
    "\n",
    "WR = (1-phat)*b\n",
    "WW = phat * (b-k) + (1-phat)*(b-k/2)\n",
    "\n",
    "solve(WR-WW,phat)"
   ]
  },
  {
   "cell_type": "markdown",
   "metadata": {},
   "source": [
    "## Exercise 1c: Spiteful\n",
    "\n",
    "The payoff matrix now becomes:\n",
    "\n",
    "|  | Rest | Wash | Spiteful |\n",
    "|:-------:|:-------:|:-------:|:-------:|\n",
    "| Rest | $0$ | $b$ | $0$ |\n",
    "| Wash | $b-k$ | $b-\\frac{k}{2}$ | $b-\\frac{k}{2}$ |\n",
    "| Spiteful | $0$ | $b-\\frac{k}{2}$ | $b-\\frac{k}{2}$ |"
   ]
  },
  {
   "cell_type": "markdown",
   "metadata": {},
   "source": [
    "#### Spiteful ESS against Rest\n",
    "To show that Spiteful is an ESS against Rest, we need to show that $W(S\\mid S) > W(R\\mid S)$. We have\n",
    "\\begin{align}\n",
    "W(S\\mid S)  &= b-\\frac{k}{2} \\\\\n",
    "W(R\\mid S) &= 0. \\\\\n",
    "\\end{align}\n",
    "Hence, \n",
    "\\begin{align}\n",
    "W(S\\mid S) &> W(R\\mid S) \\\\\n",
    "b-\\frac{k}{2} &> 0,\n",
    "\\end{align}\n",
    "so Spiteful is an ESS against Rest whenever $b>\\frac{k}{2}$ (which holds as we can assume $b>k$)"
   ]
  },
  {
   "cell_type": "markdown",
   "metadata": {},
   "source": [
    "In terms of biology, Spiteful is an ESS against Rest, as Rest does not reap any rewards against Spiteful (because Spiteful will just do nothing if Rest does nothing), while Spiteful gets $b-\\frac{k}{2}$ every time it plays against itself."
   ]
  },
  {
   "cell_type": "markdown",
   "metadata": {},
   "source": [
    "#### Spiteful ESS against Wash?\n",
    "\n",
    "To show that Spiteful is not an ESS against Wash, we have to show that $W(S\\mid S)\\leq W(W \\mid S)$. We have\n",
    "\\begin{align}\n",
    "W(S\\mid S)  &= b-\\frac{k}{2} \\\\\n",
    "W(W\\mid S) &= b-\\frac{k}{2} \\\\\n",
    "\\end{align}\n",
    "Hence, \n",
    "\\begin{align}\n",
    "W(S\\mid S) = W(W\\mid S),\n",
    "\\end{align} \n",
    "which is not an ESS."
   ]
  },
  {
   "cell_type": "markdown",
   "metadata": {},
   "source": [
    "Spiteful is not an ESS against Wash, as in the absence of Rest, both strategies are phenotypically the same. "
   ]
  },
  {
   "cell_type": "markdown",
   "metadata": {},
   "source": [
    "### Ex1c continued: mixed Wash/Rest equilibrium cannot be invaded\n",
    "Also show that Spiteful cannot invade the mixed Wash/Rest equilibrium unless k < 0:\n",
    "\n",
    "At that equilibrium we have $W(W) = W(R)$, while the equilibrium frequency of Rest is given by $\\hat{p} = \\frac{k}{2b -k}$. We then have to show that the growth rates of Rest (or Wash) are larger than that of Spiteful, or $W(R) > W(S)$."
   ]
  },
  {
   "cell_type": "markdown",
   "metadata": {},
   "source": [
    "First, we substitute for $\\hat{p}$ in the expression of $W(R)$ above (one could also pick $W(H)$, but this is simpler):\n",
    "\\begin{align}\n",
    "W(R) = \\left (1 - \\hat{p} \\right) b.\n",
    "\\end{align}\n",
    "We can indeed substitute for $\\hat{p} = \\frac{k}{2b -k }$ but let's hold off and do that when we have to compare $W(R)$ and $W(S)$ later.\n",
    "\n",
    "Then, we calculate an expression for a rare Spiteful individual that invades. Its fitness W(S) is:\n",
    "\\begin{align}\n",
    "W(S) = \\hat{p} \\cdot 0 + \\left ( 1- \\hat{p} \\right ) \\left ( b - \\frac{k}{2} \\right ).\n",
    "\\end{align}"
   ]
  },
  {
   "cell_type": "markdown",
   "metadata": {},
   "source": [
    "Hence, we have $W(R)>W(S)$ unless $k < 0$. Hence, Spiteful cannot invade, similar to the notion that Retaliator cannot invade a Hawk Dove equilibrium (see McE&B, p50). A retaliator cannot invade at that equilibrium, because by playing Hawk against a Hawk and Dove against a Dove, it has "
   ]
  },
  {
   "cell_type": "markdown",
   "metadata": {},
   "source": [
    "# Exercise 2: display costs"
   ]
  },
  {
   "cell_type": "markdown",
   "metadata": {},
   "source": [
    "### Exercise 2a\n",
    "We have the payoff matrix\n",
    "\n",
    "|       | Hawk | Dove |\n",
    "|:------:|:------:|:------:|\n",
    "|Hawk | $\\frac{v-c}{2}$ | $v$ |\n",
    "|Dove | $0$ | $\\frac{v - d}{2}$ |"
   ]
  },
  {
   "cell_type": "markdown",
   "metadata": {},
   "source": [
    "Prove that neither Hawk or Dove is an ESS. \n",
    "\n",
    "As we know, Hawk is only an ESS when $v>c$ (which I guess we need not consider), as:\n",
    "\\begin{align}\n",
    "W(H\\mid H) &> W(D \\mid H) \\\\\n",
    "\\frac{v-c}{2} &> 0.\n",
    "\\end{align}"
   ]
  },
  {
   "cell_type": "markdown",
   "metadata": {},
   "source": [
    "Dove should be an ESS when\n",
    "\\begin{align}\n",
    "W (D\\mid D) &> W (H \\mid D) \\\\\n",
    "\\frac{v-d}{2} &> v\n",
    "\\end{align}\n",
    "which also does not hold, as $d\\geq 0$."
   ]
  },
  {
   "cell_type": "markdown",
   "metadata": {},
   "source": [
    "### Exercise 2b\n",
    "\n",
    "Show that the mixed equilibrium at which the frequency of hawks is\n",
    "\\begin{align}\n",
    "\\hat{q} &= \\frac{v + d}{c+d}.\n",
    "\\end{align}"
   ]
  },
  {
   "cell_type": "markdown",
   "metadata": {},
   "source": [
    "Let us derive expressions for $W(H)$ and $W(D)$:\n",
    "\\begin{align}\n",
    "W(H) &= w_{0} + q \\frac{v-c}{2} + (1-q) v \\\\\n",
    "W(D) &= w_{0} + (1-q) \\frac{v-d}{2}.\n",
    "\\end{align}"
   ]
  },
  {
   "cell_type": "markdown",
   "metadata": {},
   "source": [
    "Hence, at equilibrium we have $W(H)-W(D)=0$ and substituting and solving for $\\hat{q}$, we have\n",
    "\\begin{align}\n",
    "\\hat{q} \\frac{v-c}{2} + \\left (1 - \\hat{q} \\right) v - \\left ( 1 - \\hat{q} \\right ) \\frac{v-d}{2} &= 0 \\\\\n",
    "\\hat{q} \\frac{v-c}{2} + \\left (1 - \\hat{q} \\right) \\left (v - \\frac{v-d}{2}\\right) &= 0\\\\\n",
    "\\hat{q} \\frac{v-c}{2} + \\left (1 - \\hat{q} \\right) \\frac{v + d}{2} &= 0\\\\\n",
    "\\hat{q} (v -c )+ \\left (1 - \\hat{q} \\right) (v + d)&= 0\\\\\n",
    "\\hat{q} (-c - d) &= -(v + d) \\\\\n",
    "\\hat{q} &= \\frac{v+d}{c+d}.\n",
    "\\end{align}"
   ]
  },
  {
   "cell_type": "markdown",
   "metadata": {},
   "source": [
    "### Exercise 2c\n",
    "\n",
    "Does adding a display cost change the biological conclusions we draw from the game? To some extent, yes: equilibrium frequences $\\hat{q}$ of Hawk become more biased towards Hawk relative to a scenario where display costs are absent. \n",
    "\n",
    "But even when the display costs are at their maximum, $d=v$, we find that $\\hat{q} = \\frac{2v}{c + v}$. As $c>v$, $\\hat{q} < 1$.\n",
    "\n",
    "Hence it is still an intermediate equilibrium where some Doves are maintained, as paying the display cost $d$ is still less than the fighting cost $c$ that a Hawk has to pay."
   ]
  },
  {
   "cell_type": "markdown",
   "metadata": {},
   "source": [
    "# Exercise 3: more display costs"
   ]
  },
  {
   "cell_type": "markdown",
   "metadata": {},
   "source": [
    "### Exercise 3a\n",
    "Give the game matrix when adding the Bourgeois strategy.\n",
    "\n",
    "\n",
    "|       | Hawk | Dove     | Bourgeois |\n",
    "|:------:|:------:|:------:|:------:|\n",
    "|Hawk | $\\frac{v-c}{2}$ | $v$ | $\\frac{1}{2}v + \\frac{1}{2}\\frac{v-c}{2}$ |\n",
    "|Dove | $0$ | $\\frac{v - d}{2}$ | $\\frac{1}{2}\\frac{v - d}{2}$ |\n",
    "|Bourgeois | $\\frac{1}{2}\\frac{v-c}{2}$ | $\\frac{1}{2}v + \\frac{1}{2} \\frac{v - d}{2}$ | $\\frac{1}{2}v$ |\n",
    "\n",
    "To highlight an example entry, let us focus on:\n",
    "\\begin{align}W(D \\mid B) = \\frac{1}{2} \\frac{v-d}{2} + \\frac{1}{2}\\cdot 0 = \\frac{1}{2} \\frac{v-d}{2}.\n",
    "\\end{align}\n",
    "When the Dove owns the resource (with probability $\\frac{1}{2}$), Bourgeois plays Dove and both share gain and both pay display costs $\\frac{v-d}{2}$. When the Bourgeois owns the resources, it plays Hawk and Dove gets nothing. \n",
    "\n",
    "#### Show that Bourgeois is an ESS:"
   ]
  },
  {
   "cell_type": "markdown",
   "metadata": {},
   "source": [
    "First we show that Bourgeois is an ESS against Dove:\n",
    "\\begin{align}\n",
    "W(B\\mid B) &> W(D\\mid B)\\\\\n",
    "\\frac{1}{2}v &> \\frac{1}{2} \\frac{v-d}{2} \\\\\n",
    "v &> \\frac{v - d}{2} \\\\\n",
    "\\frac{v}{2} &> -\\frac{d}{2}\\\\\n",
    "v &> -d,\n",
    "\\end{align}\n",
    "which always holds. In biological terms, Bourgeois is an ESS against Dove because pairs of Bourgeois always play Hawk against Dove alternatingly, rather than Dove against Dove. Thus display costs are avoided.\n"
   ]
  },
  {
   "cell_type": "markdown",
   "metadata": {},
   "source": [
    "Next, we show that Bourgeois is an ESS against Hawk:\n",
    "\\begin{align}\n",
    "W(B\\mid B) &> W(H\\mid B)\\\\\n",
    "\\frac{1}{2}v &> \\frac{1}{2}v + \\frac{1}{2}\\frac{v-c}{2}\\\\\n",
    "v &> v + \\frac{v - c}{2}\\\\\n",
    "0 &> \\frac{v - c}{2}\\\\\n",
    "c &> v,\n",
    "\\end{align}\n",
    "which always holds for the same reasons it held on p56: pairs of Bourgeois avoid costs of fighting as one always plays  Hawk while the other plays Dove."
   ]
  },
  {
   "cell_type": "markdown",
   "metadata": {},
   "source": [
    "## Exercise 3b\n",
    "\n",
    "Show that rare Bourgeois individuals have the same fitness as Hawks and Doves at the mixed equilibrium $\\hat{q} = \\frac{v+d}{c+d}$:"
   ]
  },
  {
   "cell_type": "markdown",
   "metadata": {},
   "source": [
    "Let us calculate the fitness of a rare Bourgeois $W(B)$ at this equilibrium. At this equilibrium, we already have $W(H)=W(D)$, so\n",
    "\\begin{align}\n",
    "W(B) = W(H) = W(D)\n",
    "\\end{align}\n",
    "should hold."
   ]
  },
  {
   "cell_type": "markdown",
   "metadata": {},
   "source": [
    "1. The fitness of a rare Bourgeois $W(B)$ is calculated by taking the average of payoffs to a Bourgeois when encountering a Hawk (at frequency $\\hat{q}$) and a Dove (at frequency $1-\\hat{q}$):\n",
    "\\begin{align}\n",
    "W(B) &= \\hat{q} W(B\\mid H) + \\left(1-\\hat{q}\\right) W(B\\mid D) \\\\\n",
    "W(B) &= \\hat{q}\\frac{1}{2} \\frac{v-c}{2} + \\left(1-\\hat{q}\\right) \\left(\\frac{1}{2}v + \\frac{1}{2} \\frac{v - d}{2}\\right).\n",
    "\\end{align}\n",
    "We do not immediately substitute for $\\hat{q} = \\frac{v+d}{c+d}$ yet, as we need to compare this to either $W(H)$ or $W(D)$ which also contains terms of $\\hat{q}$."
   ]
  },
  {
   "cell_type": "markdown",
   "metadata": {},
   "source": [
    "2. The fitness of a Dove W(D) at the mixed equilibrium $\\hat{q} = \\frac{v+d}{c+d}$ is\n",
    "\\begin{align}\n",
    "W(D) &= w_{0} + (1-\\hat{q}) \\frac{v-d}{2}.\n",
    "\\end{align}"
   ]
  },
  {
   "cell_type": "markdown",
   "metadata": {},
   "source": [
    "Setting $W(B)= W(D)$, we have\n",
    "\\begin{align}\n",
    "W(B) - W(D) &= 0\\\\\n",
    "\\hat{q}\\frac{1}{2} \\frac{v-c}{2} + \\left(1-\\hat{q}\\right) \\left(\\frac{1}{2}v + \\frac{1}{2} \\frac{v - d}{2}\\right) - (1-\\hat{q}) \\frac{v-d}{2} &= 0\\\\\n",
    "\\hat{q}\\frac{1}{2} \\frac{v-c}{2} + \\left(1-\\hat{q}\\right) \\left(\\frac{1}{2}v - \\frac{1}{2} \\frac{v - d}{2}\\right) &= 0\\\\\n",
    "\\frac{v+d}{c+d} \\frac{1}{2} \\frac{v-c}{2} + \\left(1 - \\frac{v+d}{c+d}\\right) \\left(\\frac{1}{2}v - \\frac{1}{2} \\frac{v - d}{2}\\right) &\\stackrel{\\hat{q} = \\frac{v+d}{c+d}}{=} 0\\\\\n",
    "\\frac{v+d}{c+d} \\frac{1}{2} \\frac{v-c}{2} - \\frac{v-c}{c+d} \\left(\\frac{1}{2}v - \\frac{1}{2} \\frac{v - d}{2}\\right) &= 0\\\\\n",
    "\\frac{1}{2}\\frac{v-c}{c+d}\\left[ \\frac{v+d}{2} - \\left(v -  \\frac{v - d}{2}\\right)\\right ] &= 0\\\\\n",
    "\\frac{1}{2}\\frac{v-c}{c+d}\\left[ \\frac{v}{2} + \\frac{d}{2} - v + \\frac{v}{2} - \\frac{d}{2}\\right ] &= 0\\\\\n",
    "\\frac{1}{2}\\frac{v-c}{c+d} \\cdot 0 &= 0.\\\\\n",
    "\\end{align}\n"
   ]
  },
  {
   "cell_type": "markdown",
   "metadata": {},
   "source": [
    "Hence, fitness of Bourgeois is indeed equal to that of Dove (and Hawk, which you can check for yourself) at the mixed equilibrium. Hence, Bourgeois can drift in, similar to what was found on p57. Display costs thus do not affect the biological conclusions we draw from the Bourgeois-Hawk-Dove game."
   ]
  },
  {
   "cell_type": "markdown",
   "metadata": {},
   "source": [
    "# Exercise 4: correlated vs uncorrelated asymmetries\n",
    "\n",
    "## Exercise 4a:\n",
    "\n",
    "Show that Assessor is an ESS against Bourgeois when \\begin{align}x > \\frac{v}{2 (v + c)}.\\end{align}Conditions for Bourgeois to be an ESS against Dove/Hawks hold (p57), implying that $c>v$. Also conditions for Assessor to be an ESS against Dove/Hawks hold (pp. 59-60), so that $xc > (1-x)v$."
   ]
  },
  {
   "cell_type": "markdown",
   "metadata": {},
   "source": [
    "### Ex 4a I: Assessor ESS against Bourgeois\n",
    "To show that Assessor is an ESS against Bourgeois, we need to show that $V(A\\mid A)>V(B \\mid A)$. We already know $V(A\\mid A) = \\frac{v}{2}$. The payoff when Bourgeois plays Assessor is \n",
    "\\begin{align}\n",
    "    V(B \\mid A) &= \\underbrace{ \\frac{1}{2}\\left( \\frac{1}{2}v + \\frac{1}{2}\\frac{v}{2} \\right )}_{\\text{Bourgeois larger}} + \\underbrace{\\frac{1}{2} \\left \\{ \\frac{1}{2} \\left [ (1-x)v - x c \\right ] + \\frac{1}{2}\\cdot 0 \\right \\} }_{\\text{Bourgeois smaller}} \\\\\n",
    "  &=\\frac{5}{8} v - \\frac{1}{4} x (v + c) \\label{eq:ex4a:VAB}\n",
    "\\end{align}"
   ]
  },
  {
   "cell_type": "markdown",
   "metadata": {},
   "source": [
    "Bourgeois is larger (first term on rhs) with probability $\\frac{1}{2}$, in which case Assessor is smaller and thus always plays Dove. If Bourgeois also arrives first (with probability $\\frac{1}{2}$), it plays Hawk. As Assessor always plays Dove, the Bourgeois' payoff is $v$. If Bourgeois arrives second (with probability $\\frac{1}{2}$), it plays Dove. As Assessor also plays Dove, the Bourgeois' payoff is $\\frac{v}{2}$.\n",
    "\n",
    "Bourgeois is smaller (second term on rhs) with probability $\\frac{1}{2}$, in which case Assessor is larger and thus always plays Hawk. If Bourgeois arrives first (prob. $\\frac{1}{2}$, it plays Hawk. The Bourgeois' probability of winning the fight is then $(1-x)$ (as the Bourgeois is smaller), in which case its payoff is $v$. In case the Bourgeois loses, however, (with probability $x$) its payoff is $-c$. If Bourgeois arrives second, it will play Dove against the Assessor playing Hawk, so that is payoff is 0."
   ]
  },
  {
   "cell_type": "markdown",
   "metadata": {},
   "source": [
    "Hence, we check whether $V\\left(A \\mid A\\right) > V\\left(B \\mid A\\right)$:\n",
    "\\begin{align}\n",
    "\\frac{v}{2} &> \\frac{5}{8} v - \\frac{1}{4} x (v + c)\\\\\n",
    "-\\frac{1}{8}v &> - \\frac{1}{4} x (v + c)\\\\\n",
    "\\frac{4}{8}\\frac{v}{v+c} &< x  \\quad \\text{divide by $-\\frac{1}{4}(v+c)$ which is strictly negative, hence flip the inequality}\\\\\n",
    "\\frac{1}{2}\\frac{v}{v+c} &< x.\\\\\n",
    "\\end{align}"
   ]
  },
  {
   "cell_type": "markdown",
   "metadata": {},
   "source": [
    "Clearly the probability of winning when large should be large enough so that an assessor can reap its benefits against other players."
   ]
  },
  {
   "cell_type": "markdown",
   "metadata": {},
   "source": [
    "#### Ex 4a I continued: check wheter Assessor is an ESS against Bourgeois in `sympy`"
   ]
  },
  {
   "cell_type": "code",
   "execution_count": 14,
   "metadata": {},
   "outputs": [
    {
     "data": {
      "image/png": "[encoded data removed]",
      "text/latex": [
       "$\\displaystyle 1.0 x \\left(c + v\\right) > 0.5 v$"
      ],
      "text/plain": [
       "1.0⋅x⋅(c + v) > 0.5⋅v"
      ]
     },
     "execution_count": 14,
     "metadata": {},
     "output_type": "execute_result"
    }
   ],
   "source": [
    "v, x, c = symbols(\"v x c\")\n",
    "\n",
    "VAA=v/2\n",
    "VBA=5/8*v-1/4*x*(v+c)\n",
    "\n",
    "reduce_inequalities(4*VAA>4*VBA,x)"
   ]
  },
  {
   "cell_type": "markdown",
   "metadata": {},
   "source": [
    "Which boils down to the same thing as above."
   ]
  },
  {
   "cell_type": "markdown",
   "metadata": {},
   "source": [
    "### Ex 4a II: Bourgeois ESS against Assessor\n",
    "\n",
    "Show also that Bourgeois is an ESS against Assessor, provided that $x < \\frac{v + 2c}{2\\left(v + c\\right)}$."
   ]
  },
  {
   "cell_type": "markdown",
   "metadata": {},
   "source": [
    "To solve this we need to show that $V(B \\mid B) > V(A \\mid B)$. The payoff of Bourgeois playing against itself is known already (p57): $V(B \\mid B)= \\frac{v}{2}$. Now, we need to calculate $V(A \\mid B)$:\n",
    "\\begin{align}\n",
    "V(A \\mid B) &= \\underbrace{\\frac{1}{2} \\left [ \\frac{1}{2} v + \\frac{1}{2} \\left ( x v - (1-x)c \\right ) \\right ] }_{\\text{Assessor larger}} + \\underbrace{\\frac{1}{2} \\left [ \\frac{1}{2}\\frac{v}{2} + \\frac{1}{2} \\cdot 0 \\right ] }_{\\text{Assessor smaller}}\\\\\n",
    "&= \\frac{3}{8} v + \\frac{1}{4} x (v +c ) - \\frac{1}{4} c.\n",
    "\\end{align}"
   ]
  },
  {
   "cell_type": "markdown",
   "metadata": {},
   "source": [
    "Assessor is larger with probability $\\frac{1}{2}$ (first term on rhs) hence plays Hawk. If Assessor arrives first (with probability $\\frac{1}{2}$), Bourgeois will play Dove, so that Assessor's payoff is $v$. If Assessor arrives second (with probability $\\frac{1}{2}$), Bourgeois will play Hawk like Assessor does. In this case, Assessor wins with probability $x$ and gets payoff $v$ and does not win with probability $1-x$, in which case Assessor gets payoff $-c$."
   ]
  },
  {
   "cell_type": "markdown",
   "metadata": {},
   "source": [
    "Assessor is smaller with probability $\\frac{1}{2}$ (second term on rhs) hence plays Dove. If Assessor arrives first (with probability $\\frac{1}{2}$), Bourgeois will also play Dove, so payoff is $\\frac{v}{2}$. Alternatively, if Assessor arrives second (with probability $\\frac{1}{2}$), Bourgeois will play Hawk and Assessor gets payoff 0."
   ]
  },
  {
   "cell_type": "markdown",
   "metadata": {},
   "source": [
    "Hence, we check $V(B \\mid B) > V(A \\mid B)$:\n",
    "\\begin{align}\n",
    "\\frac{v}{2} &> \\frac{3}{8} v + \\frac{1}{4} x (v +c ) - \\frac{1}{4} c\\\\\n",
    "\\frac{1}{8}v + \\frac{1}{4}c &> \\frac{1}{4} x (v +c )\\\\\n",
    "v + 2 c &> 2 x (v +c )\\\\\n",
    "\\frac{v + 2 c}{2(v+c)} &> x \\\\\n",
    "\\end{align}"
   ]
  },
  {
   "cell_type": "markdown",
   "metadata": {},
   "source": [
    "The probability of winning when large (rhs) should not be too large relative to gains that a Bourgeois makes when contests are determined based on random order (lhs), otherwise Assessor will invade."
   ]
  },
  {
   "cell_type": "markdown",
   "metadata": {},
   "source": [
    "#### Ex 4a II continued: check whether Bourgeois is an ESS against Assessor in `sympy`\n",
    "\n",
    "Irritating lack of further simplification by `sympy`:"
   ]
  },
  {
   "cell_type": "code",
   "execution_count": 15,
   "metadata": {},
   "outputs": [
    {
     "data": {
      "image/png": "[encoded data removed]",
      "text/latex": [
       "$\\displaystyle - 1.0 x \\left(c + v\\right) > - 1.0 c - 0.5 v$"
      ],
      "text/plain": [
       "-1.0⋅x⋅(c + v) > -1.0⋅c - 0.5⋅v"
      ]
     },
     "execution_count": 15,
     "metadata": {},
     "output_type": "execute_result"
    }
   ],
   "source": [
    "# symbols already declared above...\n",
    "VBB=v/2\n",
    "VAB=1/2*(1/2*v+1/2*(x*v-(1-x)*c))+1/2*(1/2*v/2)\n",
    "\n",
    "reduce_inequalities(4*VBB>4*VAB,x)"
   ]
  },
  {
   "cell_type": "markdown",
   "metadata": {},
   "source": [
    "which can be reworked into the equality above."
   ]
  },
  {
   "cell_type": "markdown",
   "metadata": {},
   "source": [
    "## Exercise 4b\n",
    "\n",
    "Let $p$ be the frequency of an Assessor. Show that \\begin{align}\\tilde{p} = \\frac{v(1-2x)+2c(1-x)}{2 c}\\end{align} is an unstable equilibrium."
   ]
  },
  {
   "cell_type": "markdown",
   "metadata": {},
   "source": [
    "### Ex 4b I: derive the equilibrium \n",
    "\n",
    "At equilibrium, we have $W(A) = W(B)$ and can derive $\\tilde{p}$ from there. First, derive $W(A)$:"
   ]
  },
  {
   "cell_type": "markdown",
   "metadata": {},
   "source": [
    "\\begin{align}\n",
    "W(A) &= p V(A \\mid A) + (1-p) V(A \\mid B)\\\\\n",
    "V(A \\mid A) &= \\frac{v}{2}\\quad \\text{(see above and p59)}\\\\\n",
    "V(A \\mid B) &=  \\frac{3}{8} v + \\frac{1}{4} x (v +c ) - \\frac{1}{4} c \\quad \\text{(see Bourgeois ESS against Assessor)}\\\\\n",
    "W(A) &= p\\frac{v}{2} + (1-p) \\left [\\frac{3}{8} v + \\frac{1}{4} x (v +c ) - \\frac{1}{4} c\\right].\n",
    "\\end{align}"
   ]
  },
  {
   "cell_type": "markdown",
   "metadata": {},
   "source": [
    "Then derive $W(B)$:\n",
    "\\begin{align}\n",
    "W(B) &= p V(B \\mid A) + (1-p) V(B \\mid B)\\\\\n",
    "V(B \\mid A) &= \\frac{5}{8} v - \\frac{1}{4} x (v + c) \\quad \\text{(see Assessor ESS against Bourgeois}\\\\\n",
    "V(B \\mid B) &= \\frac{v}{2} \\quad \\text{(see above and p57)}\\\\\n",
    "W(B) &= p \\left [ \\frac{5}{8} v - \\frac{1}{4} x (v + c) \\right ] + (1-p) \\frac{v}{2}\n",
    "\\end{align}"
   ]
  },
  {
   "cell_type": "markdown",
   "metadata": {},
   "source": [
    "Then solve $W(A)=W(B)$ for $\\hat{p}$:\n",
    "\\begin{align}\n",
    "p\\frac{v}{2} + (1-p) \\left [\\frac{3}{8} v + \\frac{1}{4} x (v +c ) - \\frac{1}{4} c\\right] -p \\left [ \\frac{5}{8} v - \\frac{1}{4} x (v + c) \\right ] - (1-p) \\frac{v}{2} &= 0\n",
    "\\end{align}"
   ]
  },
  {
   "cell_type": "markdown",
   "metadata": {},
   "source": [
    "Multiplying all terms by 8 to get rid of fractions and expanding terms, we have\n",
    "\\begin{align}\n",
    "4 vp + (1-p) [ 3v + 2 x (v +c ) - 2 c] - p [5 v - 2 x(v+c)] - (1-p)4v &= 0\\\\\n",
    "4 vp + 3v + 2x(v+c) - 2c - 3vp - 2 px(v+c) + 2pc - 5vp + 2 px(v+c) - 4 v + 4 vp &= 0\\\\\n",
    "-v + 2x(v+c) - 2c + 2pc &= 0\\\\\n",
    "p &= \\frac{v + 2c - 2x (v+c)}{2c}\\\\\n",
    "\\tilde{p} &= \\frac{v (1-2x) + 2c(1-x)}{2c} \\label{eq:ex4b:equilibrium}\\\\\n",
    "\\end{align}"
   ]
  },
  {
   "cell_type": "markdown",
   "metadata": {},
   "source": [
    "### Ex 4b II: Stability of $\\tilde{p}$\n",
    "\n",
    "To this end, we first have to calculate the derivative of the haploid recursion equation, substitute for an equilibrium and check whether the absolute value of the result is less than one.\n",
    "We might substitute for the internal equilibrium $\\tilde{p}$ above. However, this may not be ideal, as stability of internal equilibria is typically rapidly getting into untractable results territory. Hence, why not substitute for the other equilibria $\\tilde{p} = 0$ and $\\tilde{p} = 1$? If those are both unstable, our internal equilibrium should be stable. "
   ]
  },
  {
   "cell_type": "markdown",
   "metadata": {},
   "source": [
    "We need to calculate the derivative of\n",
    "\\begin{align}\n",
    " \\frac{\\mathrm{d}}{\\mathrm{d} p_{t}} p_{t+1} &=  \\frac{\\mathrm{d}}{\\mathrm{d} p_{t}}\\left [ p_{t} \\frac{W(A)}{\\bar{W}} \\right ],\n",
    "\\end{align} \n",
    "where $\\bar{W} = p_{t} W(A) + \\left ( 1 - p_{t} \\right ) W(B)$.\n",
    "\n",
    "Then we need to check whether\n",
    "\\begin{align}\n",
    "-1 &< \\left . \\frac{\\mathrm{d}}{\\mathrm{d} p_{t}} p_{t+1} \\right |_{p = \\tilde{p}} &< 1\n",
    "\\end{align}\n",
    "for $\\tilde{p} = 0$ and $\\tilde{p} = 1$:"
   ]
  },
  {
   "cell_type": "markdown",
   "metadata": {},
   "source": [
    "### Ex 4b II.1: calculating the derivative:\n",
    "\n",
    "Using the product and quotient rules, our implicit derivative of the haploid recursion equation is\n",
    "\\begin{equation}\n",
    " \\frac{\\mathrm{d}}{\\mathrm{d} p_{t}} p_{t+1} = \\frac{W(A)}{\\bar{W}} + p_{t} \\left[ \\frac{\\frac{\\mathrm{d}W(A)}{\\mathrm{d}p_{t}}\\bar{W} - W(A) \\frac{\\mathrm{d}\\bar{W}}{\\mathrm{d}p_{t}} }{\\bar{W}^{2}}\\right ],\\label{eq:implicit_deriv}\n",
    " \\end{equation}"
   ]
  },
  {
   "cell_type": "markdown",
   "metadata": {},
   "source": [
    "where:\n",
    "\\begin{align}\n",
    "\\frac{\\mathrm{d}W(A)}{\\mathrm{d}p_{t}} &= V(A \\mid A) - V(A \\mid B)\\\\\n",
    "& =  \\frac{1}{8} v - \\frac{1}{4} x (v +c ) + \\frac{1}{4} c \\label{eq:ex4b:dWa}\\\\\n",
    "\\frac{\\mathrm{d}\\bar{W}}{\\mathrm{d}p_{t}} &= \\frac{\\mathrm{d}}{\\mathrm{d} p_{t}}\\left [ p_{t} W(A) + \\left(1 - p_{t} \\right ) W(B) \\right ]  \\\\\n",
    "&= W(A) + p_{t} \\frac{\\mathrm{d}W(A)}{\\mathrm{d}p_{t}} - W(B) + \\left(1 - p_{t} \\right ) \\frac{\\mathrm{d}W(B)}{\\mathrm{d}p_{t}} \\label{eq:ex4b:dWbar}\\\\\n",
    "\\end{align}"
   ]
  },
  {
   "cell_type": "markdown",
   "metadata": {},
   "source": [
    "We can substitute the latter derivatives back into eq. $\\eqref{eq:implicit_deriv}$ but we can also try to wait with that and see what happens if we substitute for $\\tilde{p} = 0$ and $\\tilde{p} = 1$ in eq. $\\eqref{eq:implicit_deriv}$, as typically things simplify."
   ]
  },
  {
   "cell_type": "markdown",
   "metadata": {},
   "source": [
    "### Ex 4b II.2: evaluating stability of equilibrium $\\tilde{p} = 0$"
   ]
  },
  {
   "cell_type": "markdown",
   "metadata": {},
   "source": [
    "Substituting for $\\tilde{p}=0$ in eq. $\\eqref{eq:implicit_deriv}$ yields\n",
    "\\begin{align}\n",
    "\\left . \\frac{\\mathrm{d}}{\\mathrm{d} p_{t}} p_{t+1} \\right |_{p = \\tilde{p} = 0} &= \\left . \\frac{W(A) }{\\bar{W}} \\right |_{p = \\tilde{p} = 0}\n",
    "\\end{align}\n",
    "as the second term in eq. $\\eqref{eq:implicit_deriv}$ is multiplied by $p_{t}$ and thus vanishes."
   ]
  },
  {
   "cell_type": "markdown",
   "metadata": {},
   "source": [
    "Moreover,\n",
    "\\begin{align}\n",
    "\\left . W(A) \\right |_{p=\\tilde{p}=0} &= V \\left( A \\mid B \\right ) = \\frac{3}{8} v + \\frac{1}{4} x (v +c ) - \\frac{1}{4} c \\\\\n",
    "\\left . \\bar{W} \\right |_{p=\\tilde{p}=0} &= \\left . W(B) \\right |_{p=\\tilde{p}=0} = V \\left ( B \\mid B \\right ) = \\frac{v}{2}\n",
    "\\end{align}."
   ]
  },
  {
   "cell_type": "markdown",
   "metadata": {},
   "source": [
    "Substituting the two expressions above in eq. $\\eqref{eq:implicit_deriv}$ yields\n",
    "\\begin{align}\n",
    "\\left . \\frac{\\mathrm{d}}{\\mathrm{d} p_{t}} p_{t+1} \\right |_{p = \\tilde{p} = 0} &= \\left . \\frac{W(A) }{\\bar{W}} \\right |_{p = \\tilde{p} = 0}\\\\\n",
    "&= \\frac{2}{v} \\left [ \\frac{3}{8} v + \\frac{1}{4} x (v +c ) - \\frac{1}{4} c \\right ]\n",
    "\\end{align}"
   ]
  },
  {
   "cell_type": "markdown",
   "metadata": {},
   "source": [
    "Let us then check whether $\\tilde{p} = 0$ is indeed stable, or \n",
    "\\begin{align}\n",
    "-1 &< \\frac{2}{v} \\left [ \\frac{3}{8} v + \\frac{1}{4} x (v +c ) - \\frac{1}{4} c \\right ] < 1 & \\\\\n",
    "-\\frac{v}{2} &<  \\frac{3}{8} v + \\frac{1}{4} x (v +c ) - \\frac{1}{4} c < \\frac{v}{2} & \\text{multiplying by $\\frac{v}{2}$}\\\\\n",
    "-\\frac{7v}{8} + \\frac{1}{4}c &< \\frac{1}{4} x (v + c) < \\frac{v}{8} + \\frac{1}{4}c & \\text{adding -$\\frac{3}{8}v + \\frac{1}{4} c$}\\\\\n",
    "-7v + 2c &< 2 x (v + c) < v + 2c & \\text{multiply by $8$}\\\\\n",
    "\\frac{2c-7v}{2(v+c)} &< x < \\frac{v + 2c}{2 (v+c)} & \\text{multiply by $\\frac{1}{2(v+c)}$} \\label{ex4b:stabcond:p0}\n",
    "\\end{align}"
   ]
  },
  {
   "cell_type": "markdown",
   "metadata": {},
   "source": [
    "The condition\n",
    "\\begin{align}\n",
    "x &< \\frac{v + 2c}{2 (v+c)} \n",
    "\\end{align}\n",
    "is the one that always holds if we can assume that Bourgeois is an ESS against Assessor."
   ]
  },
  {
   "cell_type": "markdown",
   "metadata": {},
   "source": [
    "The other conditition, however\n",
    "\\begin{align}\n",
    "\\frac{2c-7v}{2(v+c)} &< x\n",
    "\\end{align}\n",
    "is not given in McB. If $2c-7v<0$ then this condition does not affect the stability of $\\tilde{p} = 0$ as $x$ is always within the range $0<x<1$.   \n",
    "\n",
    "However, if $2c -7v > 0 \\Rightarrow \\frac{2}{7} c > v$, then it may well impose a lower limit on the probability of winning for Assessors when larger. We know that $c > v$, but it is not known whether $\\frac{2}{7}c > v$. Interestingly, this condition was not mentioned by McE&B."
   ]
  },
  {
   "cell_type": "markdown",
   "metadata": {},
   "source": [
    "### Ex 4b II.3: evaluating stability of equilibrium $\\tilde{p} = 1$"
   ]
  },
  {
   "cell_type": "markdown",
   "metadata": {},
   "source": [
    "If we substitute for $p = \\tilde{p}=1$, we now need to evaluate more parts in eq. $\\eqref{eq:implicit_deriv}$, which I repeat here:\n",
    "\\begin{align}\n",
    " \\frac{\\mathrm{d}}{\\mathrm{d} p_{t}} p_{t+1} = \\frac{W(A)}{\\bar{W}} + p_{t} \\left[ \\frac{\\frac{\\mathrm{d}W(A)}{\\mathrm{d}p_{t}}\\bar{W} - W(A) \\frac{\\mathrm{d}\\bar{W}}{\\mathrm{d}p_{t}} }{\\bar{W}^{2}}\\right ]\n",
    "\\end{align}\n",
    "Working out the individual terms from eq. $\\eqref{eq:implicit_deriv}$, we have\n",
    "\\begin{align}\n",
    "\\left . W(A) \\right |_{p=\\tilde{p}=1} &= V \\left( A \\mid A \\right ) = \\frac{v}{2} \\\\\n",
    "\\left . W(B) \\right |_{p=\\tilde{p}=1} &= V \\left( B \\mid A \\right ) = \\frac{5}{8} v - \\frac{1}{4} x (v + c) & \\text{see $\\eqref{eq:ex4a:VAB}$} \\\\\n",
    "\\left . \\bar{W} \\right |_{p=\\tilde{p}=1} &= \\left . W(A) \\right |_{p=\\tilde{p}=1} = V \\left ( A \\mid A \\right ) = \\frac{v}{2}\\\\\n",
    "\\left . \\frac{\\mathrm{d}W(A)}{\\mathrm{d}p_{t}} \\right |_{p = \\tilde{p} = 1} &= \\frac{1}{8} v - \\frac{1}{4} x (v +c ) + \\frac{1}{4} c  & \\text{see $\\eqref{eq:ex4b:dWa}$} \\\\\n",
    "\\left . \\frac{\\mathrm{d}\\bar{W}}{\\mathrm{d}p_{t}} \\right |_{p = \\tilde{p} = 1} &= \\left . \\left \\{  W(A) + p_{t} \\frac{\\mathrm{d}W(A)}{\\mathrm{d}p_{t}} - W(B) + \\left(1 - p_{t} \\right ) \\frac{\\mathrm{d}W(B)}{\\mathrm{d}p_{t}} \\right \\} \\right |_{p = \\tilde{p} = 1}\\\\\n",
    "&= \\frac{v}{2}  +  \\left [ \\frac{1}{8} v - \\frac{1}{4} x (v +c ) + \\frac{1}{4} c \\right ] - \\left ( \\frac{5}{8} v - \\frac{1}{4} x (v + c) \\right ) + 0 \\\\\n",
    "&= \\frac{1}{4} c\n",
    "\\end{align}"
   ]
  },
  {
   "cell_type": "markdown",
   "metadata": {},
   "source": [
    "Hence we have\n",
    "\\begin{align}\n",
    "\\left .  \\frac{\\mathrm{d}}{\\mathrm{d} p_{t}} p_{t+1} \\right |_{p = \\tilde{p}=1} &= 1 + \\frac{\\left ( \\frac{1}{8} v - \\frac{1}{4} x (v +c ) + \\frac{1}{4} c \\right )\\frac{v}{2} - \\frac{v}{2} \\frac{1}{4}c}{\\frac{v^2}{4}}\\\\\n",
    "&= 1 + \\frac{ \\frac{1}{8} v - \\frac{1}{4} x (v +c ) + \\frac{1}{4} c  - \\frac{1}{4}c}{\\frac{v^2}{4}}\\\\\n",
    "&= \\frac{\\frac{v}{2}}{\\frac{v}{2}} + \\frac{\\frac{1}{8} v - \\frac{1}{4} x (v +c )}{\\frac{v}{2}}\\\\\n",
    "&= \\frac{\\frac{5}{8} v - \\frac{1}{4} x (v +c )}{\\frac{v}{2}}\\\\\n",
    "\\end{align}"
   ]
  },
  {
   "cell_type": "markdown",
   "metadata": {},
   "source": [
    "Assessing the inequalities\n",
    "\n",
    "\\begin{align}\n",
    "-1 &< \\frac{\\frac{5}{8} v - \\frac{1}{4} x (v +c )}{\\frac{v}{2}} < 1\\\\\n",
    "-\\frac{v}{2} &< \\frac{5}{8} v - \\frac{1}{4} x (v +c ) < \\frac{v}{2} & \\text{multiply out $\\frac{v}{2}$ (strictly $+$ve)}\\\\\n",
    "-\\frac{9v}{8} &< - \\frac{1}{4} x (v +c ) < -\\frac{v}{8} & -\\frac{5}{8} v\\\\\n",
    "-9v &< - 2 x (v +c ) < -v & \\times 8\\\\\n",
    "\\frac{9v}{2(v+c)} &> x > \\frac{v}{2(v+c)} & \\times \\frac{1}{-2(v+c)} & \\text{(negative, hence flip inequilaties)} \\label{eq:ex4b:stabcond:p1}\\\\\n",
    "\\end{align}"
   ]
  },
  {
   "cell_type": "markdown",
   "metadata": {},
   "source": [
    "The condition on the right is the condition that Assessor is an ESS against Bourgeois. The condition on the left is not explored by McE&B and implies that the benefits of winning, while $v < c$ may not be too small relative to the cost of losing (denominator)."
   ]
  },
  {
   "cell_type": "markdown",
   "metadata": {},
   "source": [
    "### Ex 4b III: stability conditions in `sympy`:\n",
    "\n",
    "First, obtain the equilibrium:"
   ]
  },
  {
   "cell_type": "code",
   "execution_count": 16,
   "metadata": {},
   "outputs": [
    {
     "data": {
      "image/png": "[encoded data removed]",
      "text/latex": [
       "$\\displaystyle \\frac{c \\left(1 - x\\right) - v x + \\frac{v}{2}}{c}$"
      ],
      "text/plain": [
       "                  v\n",
       "c⋅(1 - x) - v⋅x + ─\n",
       "                  2\n",
       "───────────────────\n",
       "         c         "
      ]
     },
     "execution_count": 16,
     "metadata": {},
     "output_type": "execute_result"
    }
   ],
   "source": [
    "p =symbols(\"p\")\n",
    "\n",
    "half=Rational(1,2)\n",
    "quarter=Rational(1,4)\n",
    "three_eighth=Rational(3,8)\n",
    "five_eighth=Rational(5,8)\n",
    "WA=p*v*half+(1-p)*(three_eighth*v+quarter*x*(v+c)-quarter*c)\n",
    "WB=p*(five_eighth*v-quarter*x*(v+c))+(1-p)*v*half\n",
    "\n",
    "ex4c_eq = solve(WA-WB,p)\n",
    "\n",
    "ex4c_eq[0]"
   ]
  },
  {
   "cell_type": "markdown",
   "metadata": {},
   "source": [
    "which is the equilibrium in eq. $\\eqref{eq:ex4b:equilibrium}$ when multiplying numerator and denominator by $2$."
   ]
  },
  {
   "cell_type": "markdown",
   "metadata": {},
   "source": [
    "#### Ex4b III.1 Substituting $\\tilde{p}=0$ in `sympy` and calculating stability"
   ]
  },
  {
   "cell_type": "code",
   "execution_count": 17,
   "metadata": {},
   "outputs": [
    {
     "data": {
      "image/png": "[encoded data removed]",
      "text/latex": [
       "$\\displaystyle \\frac{c x}{2 v} - \\frac{c}{2 v} + \\frac{x}{2} + \\frac{3}{4}$"
      ],
      "text/plain": [
       "c⋅x    c    x   3\n",
       "─── - ─── + ─ + ─\n",
       "2⋅v   2⋅v   2   4"
      ]
     },
     "execution_count": 17,
     "metadata": {},
     "output_type": "execute_result"
    }
   ],
   "source": [
    "recursion= p*WA/(p*WA + (1-p)*WB)\n",
    "\n",
    "deriv_ex4c=diff(recursion,p)\n",
    "\n",
    "\n",
    "# substitute for an equilibrium phat = 0\n",
    "deriv_ex4c_subs0=factor(deriv_ex4c.subs({p:0}))\n",
    "\n",
    "simplify(deriv_ex4c_subs0)"
   ]
  },
  {
   "cell_type": "markdown",
   "metadata": {},
   "source": [
    "So, we have our derivative evalulated at $p = \\tilde{p} = 0$, or $\\left . \\frac{\\mathrm{d} p_{t+1}}{\\mathrm{d}p_{t}} \\right |_{p_{t} = \\tilde{p} = 0}$. We now need to check whether it is within the interval $-1<\\left . \\frac{\\mathrm{d} p_{t+1}}{\\mathrm{d}p_{t}} \\right |_{p_{t} = \\tilde{p} = 0}<1$. First check the right hand side of this interval:"
   ]
  },
  {
   "cell_type": "code",
   "execution_count": 18,
   "metadata": {},
   "outputs": [
    {
     "data": {
      "image/png": "[encoded data removed]",
      "text/latex": [
       "$\\displaystyle \\frac{x \\left(c + v\\right)}{2 v} < \\frac{2 c + v}{4 v}$"
      ],
      "text/plain": [
       "x⋅(c + v)   2⋅c + v\n",
       "───────── < ───────\n",
       "   2⋅v        4⋅v  "
      ]
     },
     "execution_count": 18,
     "metadata": {},
     "output_type": "execute_result"
    }
   ],
   "source": [
    "simplify(reduce_inequalities(deriv_ex4c_subs0<1,x))"
   ]
  },
  {
   "cell_type": "markdown",
   "metadata": {},
   "source": [
    "Which can be simplified to\n",
    "\\begin{align}\n",
    "x < \\frac{v + 2c}{2(c+v)},\n",
    "\\end{align}\n",
    "exactly the condition for when Bourgeois is an ESS against Assessor and the right hand side of eq. $\\eqref{ex4b:stabcond:p0}$.\n",
    "\n",
    "We also need to check whether the derivative $\\left . \\frac{\\mathrm{d} p_{t+1}}{\\mathrm{d}p_{t}} \\right |_{p_{t} = \\tilde{p} = 0} > -1$:"
   ]
  },
  {
   "cell_type": "code",
   "execution_count": 19,
   "metadata": {},
   "outputs": [
    {
     "data": {
      "image/png": "[encoded data removed]",
      "text/latex": [
       "$\\displaystyle \\frac{x \\left(c + v\\right)}{2 v} > - \\frac{- 2 c + 7 v}{4 v}$"
      ],
      "text/plain": [
       "x⋅(c + v)   -(-2⋅c + 7⋅v) \n",
       "───────── > ──────────────\n",
       "   2⋅v           4⋅v      "
      ]
     },
     "execution_count": 19,
     "metadata": {},
     "output_type": "execute_result"
    }
   ],
   "source": [
    "ineqmin1=reduce_inequalities([deriv_ex4c_subs0>-1],x)\n",
    "\n",
    "ineqmin1"
   ]
  },
  {
   "cell_type": "markdown",
   "metadata": {},
   "source": [
    "which can be simplified to \n",
    "\\begin{align}\n",
    "x &> \\frac{2c - 7v}{2(c+v)}\n",
    "\\end{align}\n",
    "\n",
    "This is the stability condition not found by McE&B on the left hand side of eq. $\\eqref{ex4b:stabcond:p0}$."
   ]
  },
  {
   "cell_type": "markdown",
   "metadata": {},
   "source": [
    "#### Ex4b III.2 Substituting $\\tilde{p}=0$ in `sympy` and calculating stability"
   ]
  },
  {
   "cell_type": "code",
   "execution_count": 20,
   "metadata": {},
   "outputs": [
    {
     "data": {
      "image/png": "[encoded data removed]",
      "text/latex": [
       "$\\displaystyle - \\frac{c x}{2 v} - \\frac{x}{2} + \\frac{5}{4}$"
      ],
      "text/plain": [
       "  c⋅x   x   5\n",
       "- ─── - ─ + ─\n",
       "  2⋅v   2   4"
      ]
     },
     "execution_count": 20,
     "metadata": {},
     "output_type": "execute_result"
    }
   ],
   "source": [
    "# substitute for an equilibrium phat = 1\n",
    "deriv_ex4c_subs1=factor(deriv_ex4c.subs({p:1}))\n",
    "\n",
    "simplify(deriv_ex4c_subs1)"
   ]
  },
  {
   "cell_type": "markdown",
   "metadata": {},
   "source": [
    "Check whether derivative with $\\tilde{p}=1$ substituted is is smaller than 1:"
   ]
  },
  {
   "cell_type": "code",
   "execution_count": 21,
   "metadata": {},
   "outputs": [
    {
     "data": {
      "image/png": "[encoded data removed]",
      "text/latex": [
       "$\\displaystyle \\frac{x \\left(c + v\\right)}{2 v} > \\frac{1}{4}$"
      ],
      "text/plain": [
       "x⋅(c + v)      \n",
       "───────── > 1/4\n",
       "   2⋅v         "
      ]
     },
     "execution_count": 21,
     "metadata": {},
     "output_type": "execute_result"
    }
   ],
   "source": [
    "simplify(reduce_inequalities(deriv_ex4c_subs1<1,x))"
   ]
  },
  {
   "cell_type": "markdown",
   "metadata": {},
   "source": [
    "Which is simplified to $x>\\frac{v}{2(c+v)}$, exactly the ESS condition for Assessor against Bourgeois and the right-hand side condition in eq. $\\eqref{eq:ex4b:stabcond:p1}$. "
   ]
  },
  {
   "cell_type": "code",
   "execution_count": 22,
   "metadata": {},
   "outputs": [
    {
     "data": {
      "image/png": "[encoded data removed]",
      "text/latex": [
       "$\\displaystyle \\frac{x \\left(c + v\\right)}{2 v} < \\frac{9}{4}$"
      ],
      "text/plain": [
       "x⋅(c + v)      \n",
       "───────── < 9/4\n",
       "   2⋅v         "
      ]
     },
     "execution_count": 22,
     "metadata": {},
     "output_type": "execute_result"
    }
   ],
   "source": [
    "simplify(reduce_inequalities(deriv_ex4c_subs1>-1,x))"
   ]
  },
  {
   "cell_type": "markdown",
   "metadata": {},
   "source": [
    "Which is simplified to $x<\\frac{9v}{2(c+v)}$, the left-hand side condition in eq. $\\eqref{eq:ex4b:stabcond:p1}$. "
   ]
  },
  {
   "cell_type": "markdown",
   "metadata": {},
   "source": [
    "## Exercise 4c\n",
    "\n",
    "Assuming $x>0.5$, which of the two strategies is more likely to evolve?"
   ]
  },
  {
   "cell_type": "markdown",
   "metadata": {},
   "source": [
    "This is Assessor as the probability of winning when large $x$ is larger than $\\frac{1}{2}$, hence playing Hawk when large (and Dove when small) outweighs the benefit of taking cues from precedence (as Bourgeois does)."
   ]
  },
  {
   "cell_type": "code",
   "execution_count": null,
   "metadata": {},
   "outputs": [],
   "source": []
  }
 ],
 "metadata": {
  "kernelspec": {
   "display_name": "Python 3",
   "language": "python",
   "name": "python3"
  },
  "language_info": {
   "codemirror_mode": {
    "name": "ipython",
    "version": 3
   },
   "file_extension": ".py",
   "mimetype": "text/x-python",
   "name": "python",
   "nbconvert_exporter": "python",
   "pygments_lexer": "ipython3",
   "version": "3.7.3"
  }
 },
 "nbformat": 4,
 "nbformat_minor": 4
}
