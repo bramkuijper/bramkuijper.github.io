{
 "cells": [
  {
   "cell_type": "markdown",
   "metadata": {},
   "source": [
    "# Answers to exercises chapter 1\n",
    "\n",
    "## Exercise 1\n",
    "Use the graphical method to sketch the trajectory for the recursion $x^{\\prime} = x + a (x - 1)$ for $a = -1.5$, $a=-2.0$ and $a = - 2.5$"
   ]
  },
  {
   "cell_type": "markdown",
   "metadata": {},
   "source": [
    "We need to produce a cobweb plot, for which you could write code yourself or get it from the internet. Below you find the code for a general function to plot a cobweb. See also [worksheet for sections 1.4 - 1.6](https://bramkuijper.github.io/mcelreath_boyd/ch1_14_end.html). It is a modification of the original source code [here](https://scipython.com/blog/cobweb-plots/).\n",
    "\n",
    "This is just a snippet of code from the internet that I reworked. It is not required to understand it in depth, just to apply the code (see below) to make your own cobweb. What you need to do is simply call the function `plot_cobweb()` as illustrated below."
   ]
  },
  {
   "cell_type": "code",
   "execution_count": 133,
   "metadata": {},
   "outputs": [],
   "source": [
    "# import some packages\n",
    "\n",
    "# numpy is a numerical library in python\n",
    "# allowing one to do numerical things (random numbers, arrays, linear algebra, etc)\n",
    "# see https://numpy.org/doc/stable/user/quickstart.html\n",
    "import numpy as np\n",
    "\n",
    "# import some graphics parameters from matplotlib (determining font & text)\n",
    "from matplotlib import rc\n",
    "\n",
    "# some additional functions from numpy\n",
    "import matplotlib.pyplot as plt\n",
    "\n",
    "# Use LaTeX throughout the figure for consistency\n",
    "rc('font', **{'family': 'serif', 'serif': ['Computer Modern'], 'size': 16})\n",
    "rc('text', usetex=True)\n",
    "# Figure dpi\n",
    "dpi = 72\n",
    "\n",
    "def plot_cobweb(f,\n",
    "                parameters={},\n",
    "                starting_value=0.1,\n",
    "                n_iterations=40,\n",
    "                xrange=(0,1)):\n",
    "    \n",
    "    \"\"\"Make a cobweb plot.\n",
    "    \n",
    "    Parameters:\n",
    "    -----------\n",
    "        f: function\n",
    "            recursion equation where the dynamic variable\n",
    "            should be given by the name x, e.g., x*wA/(x*wA + (1-x)*wA)\n",
    "            \n",
    "        parameters: dict\n",
    "            a dictionary with parameter names and values\n",
    "            if the equation is, say, x*a*c where x is the variable\n",
    "            in question and a and c are parameters, we need to provide\n",
    "            parameters={\"a\":1.5,\"c\":0.9}\n",
    "            \n",
    "        starting_value: float\n",
    "            the starting value of the variable\n",
    "        \n",
    "        n_iterations: int\n",
    "            number of times we evaluate f\n",
    "            \n",
    "        xrange: tuple\n",
    "            a tuple with the minimum and the maximum xrange\n",
    "        \n",
    "    Returns:\n",
    "    --------\n",
    "    Nothing\n",
    "        \n",
    "\n",
    "    \"\"\"\n",
    "    \n",
    "    # make a big series of 500 evenly spaced points\n",
    "    # from min to max along x-axis\n",
    "    x = np.linspace(start=xrange[0], stop=xrange[1], num=500)\n",
    "    \n",
    "    # make a figure of a certain size and dpi\n",
    "    fig = plt.figure(figsize=(600/dpi, 450/dpi), dpi=dpi)\n",
    "    ax = fig.add_subplot(111)\n",
    "\n",
    "    # Plot y = f(x)\n",
    "    ax.plot(x, f(x, **parameters), color=\"black\", linewidth=2)\n",
    "    \n",
    "    # Plot y = x\n",
    "    ax.plot(x, x, color=\"grey\", lw=1)\n",
    "\n",
    "    # create the cobweb by iterate x = f(x) for nmax steps, starting at (x0, 0).\n",
    "    px, py = np.empty((2,n_iterations+1,2))\n",
    "    px[0], py[0] = starting_value, 0\n",
    "    for n in range(1, n_iterations, 2):\n",
    "        px[n] = px[n-1]\n",
    "        py[n] = f(px[n-1], **parameters)\n",
    "        px[n+1] = py[n]\n",
    "        py[n+1] = py[n]\n",
    "\n",
    "    # Plot the path traced out by the iteration.\n",
    "    ax.plot(px, py, color=\"blue\", alpha=0.7)\n",
    "\n",
    "    # Annotate and tidy the plot.\n",
    "    ax.minorticks_on()\n",
    "    ax.grid(which='minor', alpha=0.5)\n",
    "    ax.grid(which='major', alpha=0.5)\n",
    "    ax.set_aspect('equal')\n",
    "    ax.set_xlabel('$x$')\n",
    "#    ax.set_ylabel(f.latex_label)\n",
    "\n",
    "    # make a title containing start value\n",
    "    # and any parameters\n",
    "    title_str = f\"$x_0 = ${starting_value}\"\n",
    "    \n",
    "    for param_name, param_value in parameters.items():\n",
    "        title_str += \", \" + param_name + \"=\" + str(param_value)\n",
    "\n",
    "    ax.set_title(label=title_str)\n",
    "\n",
    "    plt.show()\n",
    "\n",
    "class AnnotatedFunction:\n",
    "    \"\"\"A small class representing a mathematical function.\n",
    "\n",
    "    This class is callable so it acts like a Python function, but it also\n",
    "    defines a string giving its latex representation.\n",
    "\n",
    "    \"\"\"\n",
    "\n",
    "    def __init__(self, func, latex_label):\n",
    "        self.func = func\n",
    "        self.latex_label = latex_label\n",
    "\n",
    "    def __call__(self, *args, **kwargs):\n",
    "        return self.func(*args, **kwargs)"
   ]
  },
  {
   "cell_type": "markdown",
   "metadata": {},
   "source": [
    "Now define the recursion equation we want to plot as a Python [function](https://docs.python.org/3/tutorial/controlflow.html#defining-functions):"
   ]
  },
  {
   "cell_type": "code",
   "execution_count": 134,
   "metadata": {},
   "outputs": [],
   "source": [
    "# define the recursion equation\n",
    "def func(x, a):\n",
    "    return(x + a*(x-1))"
   ]
  },
  {
   "cell_type": "markdown",
   "metadata": {},
   "source": [
    "Now produce the cobweb plots by calling the function `plot_cobweb()` that was defined in the snippet of code above.\n",
    "\n",
    "### Cobweb for $a=-1.5$\n",
    "First for the value of $a=-1.5$, we find that there is a stable point, as the recursion (blue line) spirals inwards from its starting value $x_{0} = 0.2$:"
   ]
  },
  {
   "cell_type": "code",
   "execution_count": 135,
   "metadata": {},
   "outputs": [
    {
     "data": {
      "image/png": "[encoded data removed]",
      "text/plain": [
       "<Figure size 600x450 with 1 Axes>"
      ]
     },
     "metadata": {
      "needs_background": "light"
     },
     "output_type": "display_data"
    }
   ],
   "source": [
    "plot_cobweb(f=func,\n",
    "            parameters={\"a\":-1.5},\n",
    "            starting_value=0.2,\n",
    "            xrange=(0,2))"
   ]
  },
  {
   "cell_type": "markdown",
   "metadata": {},
   "source": [
    "This makes sense, as we find that for $a=-1.5$ the derivative of $x^{\\prime}$ with respect to $x$ is between -1 and 1, or: \\begin{align}\\left . -1 < \\frac{\\mathrm{d} x^{\\prime}}{\\mathrm{d}x}\\right |_{a=-1.5} < 1.\\end{align}\n",
    "\n",
    "To see this, calculate the derivative $\\frac{\\mathrm{d} x^{\\prime}}{\\mathrm{d}x}$, which is \n",
    "\\begin{align} \\frac{\\mathrm{d} x^{\\prime}}{\\mathrm{d}x} &= \\frac{\\mathrm{d}}{\\mathrm{d}x} \\left [x + a(x-1) \\right]\\\\\n",
    "&=1 + a.\n",
    "\\end{align}\n",
    "\n",
    "Hence, when $a=-1.5$ we have\n",
    "\\begin{align} \\left . \\frac{\\mathrm{d} x^{\\prime}}{\\mathrm{d}x} \\right |_{a=-1.5} &= \\left . \n",
    "\\left ( 1 + a \\right ) \\right |_{a=-1.5} =  - 0.5,\n",
    "\\end{align}\n",
    "which lies within the -1 and 1 interval."
   ]
  },
  {
   "cell_type": "markdown",
   "metadata": {},
   "source": [
    "### Cobweb for $a=-2$"
   ]
  },
  {
   "cell_type": "code",
   "execution_count": 136,
   "metadata": {},
   "outputs": [
    {
     "data": {
      "image/png": "[encoded data removed]",
      "text/plain": [
       "<Figure size 600x450 with 1 Axes>"
      ]
     },
     "metadata": {
      "needs_background": "light"
     },
     "output_type": "display_data"
    }
   ],
   "source": [
    "plot_cobweb(f=func,\n",
    "            parameters={\"a\":-2},\n",
    "            starting_value=0.2,\n",
    "            xrange=(0,2))"
   ]
  },
  {
   "cell_type": "markdown",
   "metadata": {},
   "source": [
    "We find that we get stable cycles (hence the equilibrium is unstable) when $a=-2$, as we have\n",
    "\\begin{align} \\left . \\frac{\\mathrm{d} x^{\\prime}}{\\mathrm{d}x} \\right |_{a=-2} &= \\left . \n",
    "\\left ( 1 + a \\right ) \\right |_{a=-2} =  -1\n",
    "\\end{align}\n",
    "so that the stability condition \\begin{align} -1 < \\left . \\frac{\\mathrm{d} x^{\\prime}}{\\mathrm{d}x} \\right |_{a=-2} < 1 \\end{align} is **not** met. However, as the derivative is right at the boundary of -1, we find it is cycling back and forth between a set of similar values."
   ]
  },
  {
   "cell_type": "markdown",
   "metadata": {},
   "source": [
    "### Cobweb for $a=-2.5$"
   ]
  },
  {
   "cell_type": "code",
   "execution_count": 137,
   "metadata": {},
   "outputs": [
    {
     "data": {
      "image/png": "[encoded data removed]",
      "text/plain": [
       "<Figure size 600x450 with 1 Axes>"
      ]
     },
     "metadata": {
      "needs_background": "light"
     },
     "output_type": "display_data"
    }
   ],
   "source": [
    "plot_cobweb(f=func,\n",
    "            parameters={\"a\":-2.5},\n",
    "            starting_value=0.2,\n",
    "            xrange=(0,2))"
   ]
  },
  {
   "cell_type": "markdown",
   "metadata": {},
   "source": [
    "The derivative is now far smaller than -1, so we find that the system is unstable and spirals outwards towards values of $x$ of an ever larger magnitude."
   ]
  },
  {
   "cell_type": "markdown",
   "metadata": {},
   "source": [
    "# Exercise 2: two-way mutation"
   ]
  },
  {
   "cell_type": "markdown",
   "metadata": {},
   "source": [
    "### Equilibrium\n",
    "\n",
    "Solve for the equilibrium/equilibria of the system\n",
    "\\begin{align}p^{\\prime} &= p - m_{12} p + m_{21} (1-p).\n",
    "\\end{align}"
   ]
  },
  {
   "cell_type": "markdown",
   "metadata": {},
   "source": [
    "To find equilibria, we have to find for which allele frequencies $\\hat{p}$ there is no change in allele frequency between time steps, i.e., when $p^{\\prime} = p$.\n",
    "\n",
    "To find the equilibria, we set $p^{\\prime}$ equal to $p$ and write $p$ as $\\hat{p}$. Doing so, we have\n",
    "\\begin{align}\n",
    "\\hat{p} &= \\hat{p} - m_{12} \\hat{p} + m_{21} \\left ( 1-\\hat{p} \\right ).\n",
    "\\end{align}\n",
    "\n",
    "Then, subtracting $\\hat{p}$ from both sides, we have\n",
    "\\begin{align}\n",
    "0 &= - m_{12} \\hat{p} + m_{21} \\left ( 1-\\hat{p} \\right ).\n",
    "\\end{align}\n",
    "\n",
    "Collecting terms of $-\\hat{p}$:\n",
    "\\begin{align}\n",
    "0 &= -\\hat{p} \\left [m_{12} + m_{21} \\right ] + m_{21}.\n",
    "\\end{align}\n",
    "\n",
    "Subtracting $m_{21}$ from both sides:\n",
    "\\begin{align}\n",
    "-m_{21} &= -\\hat{p} \\left [m_{12} + m_{21} \\right ].\n",
    "\\end{align}\n",
    "\n",
    "Divide both sides by $m_{12} + m_{21}$:\n",
    "\\begin{align}\n",
    "\\frac{-m_{21}}{m_{12} + m_{21}} &= -\\hat{p}.\n",
    "\\end{align}\n",
    "\n",
    "Multiply both sides by $-1$:\n",
    "\\begin{align}\n",
    "\\frac{m_{21}}{m_{12} + m_{21}} &= \\hat{p}.\n",
    "\\end{align}\n",
    "\n",
    "And we are done."
   ]
  },
  {
   "cell_type": "markdown",
   "metadata": {},
   "source": [
    "### Solving for the equilibria in `sympy`\n",
    "First load sympy and turn on beautified printing():"
   ]
  },
  {
   "cell_type": "code",
   "execution_count": 138,
   "metadata": {},
   "outputs": [],
   "source": [
    "from sympy import *\n",
    "init_printing()"
   ]
  },
  {
   "cell_type": "markdown",
   "metadata": {},
   "source": [
    "To solve the recursion\n",
    "\\begin{align}p^{\\prime} &= p - m_{12} p + m_{21} (1-p).\n",
    "\\end{align}\n",
    "for equilibria in `sympy`, we use the [`solve()`](https://docs.sympy.org/latest/modules/solvers/solvers.html#sympy.solvers.solvers.solve) command. \n",
    "\n",
    "However, `sympy` only accepts difference equations to solve, so we need to feed it $\\Delta p = p^{\\prime} - p$, which can easily be achieved by subtracting $p$ from both sides in the recursion above:\n",
    "\n",
    "\\begin{align}\n",
    "\\Delta p &= p - m_{12} p + m_{21} (1-p) - p.\n",
    "\\end{align}"
   ]
  },
  {
   "cell_type": "code",
   "execution_count": 139,
   "metadata": {},
   "outputs": [
    {
     "data": {
      "image/png": "[encoded data removed]",
      "text/latex": [
       "$\\displaystyle - m_{12} \\hat{p} + m_{21} \\left(1 - \\hat{p}\\right)$"
      ],
      "text/plain": [
       "-m₁₂⋅p̂ + m₂₁⋅(1 - p̂)"
      ]
     },
     "execution_count": 139,
     "metadata": {},
     "output_type": "execute_result"
    }
   ],
   "source": [
    "# first declare p, phat, m12 and m21 as mathematical symbols, rather than python variables:\n",
    "p, phat, m12, m21 = symbols(\"p phat m12 m21\")\n",
    "\n",
    "# now specify the difference equation Δp\n",
    "deltap=p - m12*p + m21*(1-p) - p\n",
    "\n",
    "# substitute p = phat:\n",
    "deltap_subs = deltap.subs(p,phat)\n",
    "\n",
    "# print the resulting difference equation for sake of clarity:\n",
    "deltap_subs"
   ]
  },
  {
   "cell_type": "code",
   "execution_count": 140,
   "metadata": {},
   "outputs": [
    {
     "data": {
      "image/png": "[encoded data removed]",
      "text/latex": [
       "$\\displaystyle \\left[ \\frac{m_{21}}{m_{12} + m_{21}}\\right]$"
      ],
      "text/plain": [
       "⎡   m₂₁   ⎤\n",
       "⎢─────────⎥\n",
       "⎣m₁₂ + m₂₁⎦"
      ]
     },
     "execution_count": 140,
     "metadata": {},
     "output_type": "execute_result"
    }
   ],
   "source": [
    "# solve for phat:\n",
    "solve(deltap_subs,phat)"
   ]
  },
  {
   "cell_type": "markdown",
   "metadata": {},
   "source": [
    "and we have derived the equilibrium in `sympy`."
   ]
  },
  {
   "cell_type": "markdown",
   "metadata": {},
   "source": [
    "### Stability of the equilibrium\n",
    "\n",
    "To calculate whether $\\hat{p} = \\frac{m_{21}}{m_{12} + m_{21}}$ is stable, we need to check whether\n",
    "\\begin{align} -1 < \\left . \\frac{\\mathrm{d} p^{\\prime}}{\\mathrm{d} p} \\right |_{p = \\hat{p} = \\frac{m_{21}}{m_{12} + m_{21}}} &< 1\n",
    "\\end{align}\n",
    "holds."
   ]
  },
  {
   "cell_type": "markdown",
   "metadata": {},
   "source": [
    "Calculating the derivative, we first write\n",
    "\\begin{align}\\frac{\\mathrm{d}p^{\\prime}}{\\mathrm{d} p} &= \\frac{\\mathrm{d}}{\\mathrm{d} p}\\left[p - m_{12} p + m_{21} (1-p)\\right].\n",
    "\\end{align}\n",
    "Then, we take the derivatives, so that we have:\n",
    "\\begin{align}\n",
    "\\frac{\\mathrm{d}p^{\\prime}}{\\mathrm{d} p} &= 1 - m_{12} - m_{21}.\n",
    "\\end{align}\n",
    "\n",
    "After that, we should normally substitute for $p = \\hat{p} = \\frac{m_{21}}{m_{12} + m_{21}}$, but we do not have to that here, as $\\frac{\\mathrm{d}p^{\\prime}}{\\mathrm{d} p}$ is not a function of $p$, only of $m_{12}$ and $m_{21}$. Hence, we can just try to infer the range of $\\frac{\\mathrm{d}p^{\\prime}}{\\mathrm{d} p}$ as it is: because $m_{12}$ and $m_{21}$ are proportions of alleles that mutate, hence we have $0 < m_{12}< 1$ and $0< m_{21}< 1$ (but see the **note** below). From that, we can see that $1-m_{12} - m_{21}$ is always in between $-1$ and $1$, or\n",
    "\\begin{align}-1< \\frac{\\mathrm{d}p^{\\prime}}{\\mathrm{d} p}< 1.\\end{align}\n",
    "Hence the equilibrium is always $\\hat{p} = \\frac{m_{21}}{m_{12} + m_{21}}$ stable.\n",
    "\n",
    "If this is not so easy to see, try to substitute for different boundary values, say $m_{12}=1$ and $m_{21}=1$ in the expression for $\\frac{\\mathrm{d}p^{\\prime}}{\\mathrm{d} p}$ above.\n",
    "\n",
    "**Note about boundary conditions:**   \n",
    "You may have noted that the stability of the equilibrium $\\hat{p} = \\frac{m_{21}}{m_{12} + m_{21}}$ does not apply when both mutation rates are $0$, as we then have $\\left . \\frac{\\mathrm{d}p^{\\prime}}{\\mathrm{d} p} \\right |_{p  = \\hat{p} = \\frac{m_{21}}{m_{12} + m_{21}}} = 1$. Hence the equilibrium is unstable.\n",
    "\n",
    "When you look at the original recursion $p^{\\prime} = p - m_{12} p + m_{21} (1-p)$, that makes sense, as there is no way in which allele frequencies can change between generations when $m_{12} = m_{21} = 0$ (because $p^{\\prime} = p$). Hence, any value of $p$ is an equilibrium.\n",
    "\n",
    "The same applies when both alleles always mutate, or $m_{12} = m_{21} = 1$. This may seem unrealistic but could maybe happen in some epigenetic systems, where the alleles are not DNA basepair variants but DNA methylation groups that are continuously being changed in opposite ways (perhaps this occurs in so-called hypervariable regions, see [Feinberg & Irizarry 2010 PNAS](https://doi.org/10.1073/pnas.0906183107). In this case $\\left . \\frac{\\mathrm{d}p^{\\prime}}{\\mathrm{d} p} \\right |_{p  = \\hat{p} = \\frac{m_{21}}{m_{12} + m_{21}}} = -1$, so again the equilibrium is unstable. Again, this makes sense as when $m_{12} = m_{21} = 1$ the influx of variants that mutates from $1$ to $2$ exactly cancels out against the outflux of variants mutating from $2$ to $1$. Hence there is no effective change and any value of $p$ is an equilibrium. "
   ]
  },
  {
   "cell_type": "markdown",
   "metadata": {},
   "source": [
    "# 3. Social learning and replicator dynamics"
   ]
  },
  {
   "cell_type": "markdown",
   "metadata": {},
   "source": [
    "An organims (which we designate here as the 'learner') learns socially, by selecting two models at random. It then imitates the more successful behaviour of the two modeled behaviours. Let us label the more profitable behaviour as $G$ ('good'), which occurs at frequency $p$. Te less profitable behaviour is labeled $B$ ('bad') and occurs at frequency $1-p$.\n",
    "\n",
    "McE&B do not say anything about any payoffs, so I am not going to assume there are any fitness consequences to the social learner. \n",
    "\n",
    "### Mating table\n",
    "Let us generate a mating table first:"
   ]
  },
  {
   "cell_type": "markdown",
   "metadata": {},
   "source": [
    "|Model 1|Model 2|$\\text{Pr}\\left(\\text{Model 1},\\text{Model 2}\\right)$|$\\text{Pr}\\left(\\text{Learner} = G \\mid \\text{Model 1},\\text{Model 2} \\right)$|$\\text{Pr}\\left(\\text{Learner} = B \\mid \\text{Model 1},\\text{Model 2} \\right)$|\n",
    "|:-----:|:-----:|:-----------:|:----------:|:-------------:|\n",
    "|$G$|$G$|$p^{2}$|$1$|$0$|\n",
    "|$G$|$B$|$p (1-p)$|$1-e$|$e$|\n",
    "|$B$|$G$|$p (1-p)$|$1-e$|$e$|\n",
    "|$B$|$B$|$(1-p)^{2}$|$0$|$1$|\n",
    "\n",
    "I typically write the reciprocal combinations $G,B$ and $B,G$ separately, although one could have merged them here in one row. However, there are too many cases where $G,B$ and $B,G$ have different probabilities (e.g., maternal effects), so let's make it a habit to write them separately."
   ]
  },
  {
   "cell_type": "markdown",
   "metadata": {},
   "source": [
    "### Developing a recursion\n",
    "We first calculate the number of new learners acquiring $G$, say, $n_{G}^{\\prime}$ and those that acquire $n_{B}^{\\prime}$. We then have $p^{\\prime}$, the frequency of $G$ in the next timestep because\n",
    "\\begin{align}\n",
    "p^{\\prime} = \\frac{n_{G}^{\\prime}}{n_{G}^{\\prime}+n_{B}^{\\prime}}.\n",
    "\\end{align}\n",
    "\n",
    "\n",
    "Let us say there are $n$ newborns each generation. In that case, a proportion $p^{2}$ of which encounters two $G$ individuals as model 1 and model 2, a proportion $p(1-p)$ encounters a $G$ individual for model 1 and a $B$ individual  for model 2 and a proportion $p(1-p)$ encounters a $B$ individual for model 1 and a $G$ individual  for model 2. \n",
    "\n",
    "Hence, we then have\n",
    "\\begin{align}\n",
    "n_{G}^{\\prime} &= n \\left [p^{2} + p (1-p) (1-e) + p(1-p)(1-e)\\right] = n\\left [ p^{2} + 2 p (1-p) (1-e) \\right ]\n",
    "\\end{align}\n",
    "\n",
    "Similarly, for $n_{B}^{\\prime}$ we have\n",
    "\n",
    "\\begin{align}\n",
    "n_{B}^{\\prime} &= n\\left [ (1-p)^{2} + 2 p (1-p) e \\right ]\n",
    "\\end{align}"
   ]
  },
  {
   "cell_type": "markdown",
   "metadata": {},
   "source": [
    "Now substituting our expressions for $n_{G}^{\\prime}$ and $n_{B}^{\\prime}$ into $p^{\\prime} = \\frac{n_{G}^{\\prime}}{n_{G}^{\\prime}+n_{B}^{\\prime}}$, we have\n",
    "\\begin{align}\n",
    "p^{\\prime} = \\frac{ n\\left [ p^{2} + 2 p (1-p) (1-e) \\right ]}{n\\left [ p^{2} + 2 p (1-p) (1-e) \\right ] + n\\left [ (1-p)^{2} + 2 p (1-p) e \\right ]}.\n",
    "\\end{align}\n",
    "\n",
    "### Simplifying the recursion\n",
    "We can see that $n$ cancels out from numerator and denominator\n",
    "\\begin{align}\n",
    "p^{\\prime} = \\frac{ p^{2} + 2 p (1-p) (1-e)}{ p^{2} + 2 p (1-p) (1-e) + (1-p)^{2} + 2 p (1-p) e}.\n",
    "\\end{align}\n",
    "\n",
    "Moreover, summing the terms in the denominator, it turns out to be 1:\n",
    "\\begin{align}\n",
    "& p^{2} + 2 p (1-p) (1-e) + (1-p)^{2} + 2 p (1-p) e \\\\\n",
    "&= p^{2} + (1-p)^{2} + 2 p (1-p)\\\\\n",
    "&= p^{2} + 1- 2p + p^{2} + 2p - 2p^{2}\\\\\n",
    "&=1.\n",
    "\\end{align}\n",
    "\n",
    "Hence we have the simplified recursion:\n",
    "\\begin{align}\n",
    "p^{\\prime} =p^{2} + 2 p (1-p) (1-e).\n",
    "\\end{align}\n",
    "\n",
    "### Difference equation\n",
    "From $p^{\\prime}$ we can obtain the difference equation by calculating $\\Delta p = p^{\\prime} - p$:\n",
    "\\begin{align}\n",
    "\\Delta p = p^{\\prime} - p &= p^{2} + 2 p (1-p) (1-e) - p\\\\\n",
    "&= p \\left [ p + 2 (1-p) (1-e) -1 \\right ] \\quad \\text{collecting terms of $p$}\\\\\n",
    "&= p \\left [ p-1 +2(1-p) (1-e) \\right ] \\quad \\text{re-ordering $p$ and $-1$}\n",
    "\\end{align}\n",
    "\n",
    "Bcause $p-1=-(1-p)$, we have\n",
    "\\begin{align}\n",
    "\\Delta p &=p \\left [ -(1-p) + 2 (1-p) (1-e) \\right ]\\\\\n",
    " &= p (1-p) \\left [ -1 + 2(1-e)  \\right ] \\quad \\text{collecting terms of $1-p$}\\\\\n",
    "  &= p (1-p) \\left [ 1 - 2e  \\right ],\\\\\n",
    "\\end{align}\n",
    "\n",
    "and we are done.\n",
    "\n",
    "#### Interpretation of the difference equation\n",
    "* When the error $e$ is in the interval $0\\leq e < \\frac{1}{2}$, we find that the behaviour $G$ always increases (as $\\Delta p>0$). This is because transmission is biased towards $G$. The behaviour $G$ continues to increase until the equilibrium $\\hat{p}=1$ is reached.\n",
    "\n",
    "* When $e=\\frac{1}{2}$, individuals randomly choose between $G$ and $B$, so there will be no evolutionary change and $\\Delta p = 0$.\n",
    "\n",
    "* By contrast, when $\\frac{1}{2}<e\\leq 1$ we have tranmission that is biased towards $B$ instead of towards $G$, so $G$ decrases in frequency (as $\\Delta p<0$) until the equilibrium $\\hat{p}=0$ is reached. \n",
    "\n"
   ]
  },
  {
   "cell_type": "markdown",
   "metadata": {},
   "source": [
    "### Developing the recursion in `sympy`\n",
    "There is no easy way to develop a mating table by programming up some function, so one typically derives the mating table  using pen and paper. We can then develop the recursion as above in `sympy`. "
   ]
  },
  {
   "cell_type": "code",
   "execution_count": 141,
   "metadata": {},
   "outputs": [
    {
     "data": {
      "image/png": "[encoded data removed]",
      "text/latex": [
       "$\\displaystyle p \\left(2 e p - 2 e - p + 2\\right)$"
      ],
      "text/plain": [
       "p⋅(2⋅e⋅p - 2⋅e - p + 2)"
      ]
     },
     "execution_count": 141,
     "metadata": {},
     "output_type": "execute_result"
    }
   ],
   "source": [
    "# define symbols that we have not defined yet\n",
    "n, e = symbols(\"n e\")\n",
    "\n",
    "# recursion for nG\n",
    "nG=n*(p**2+2*(1-p)*p*(1-e))\n",
    "\n",
    "# recursion for nB\n",
    "nB=n*(2*(1-p)*p*e+(1-p)**2)\n",
    "\n",
    "# calculate p'\n",
    "pprime=factor(nG/(nG+nB))\n",
    "\n",
    "# p'\n",
    "pprime"
   ]
  },
  {
   "cell_type": "markdown",
   "metadata": {},
   "source": [
    "We see that $n$ indeed drops out of our solution and the lack of a fraction highlights that $\\bar{w}=1$.\n",
    "\n",
    "### Developing the difference equation in `sympy`\n",
    "We can calculate the difference equation as $\\Delta p = p^{\\prime} - p, or"
   ]
  },
  {
   "cell_type": "code",
   "execution_count": 142,
   "metadata": {},
   "outputs": [],
   "source": [
    "# subtract p from the recursion equaton:\n",
    "deltap = factor(pprime - p)"
   ]
  },
  {
   "cell_type": "markdown",
   "metadata": {},
   "source": [
    "and we are done with exercise 3."
   ]
  },
  {
   "cell_type": "markdown",
   "metadata": {},
   "source": [
    "# Exercise 4"
   ]
  },
  {
   "cell_type": "markdown",
   "metadata": {},
   "source": [
    "### Deriving a mating table\n",
    "\n",
    "Let us write a mating table for a diploid system. \n",
    "\n",
    "**Genotype-level tracking** One way of doing this would be to track the genotypes of parent 1 and parent 2 at the adult stage, so that we need to calculate the probabilities of encountering all genotype combations of $AA$, $AS$ and $SS$ in parent 1 and all genotype combinations of $AA$, $AS$ and $SS$ in parent 2. This is rather tedious, as that results in a table with $3\\times3=9$ rows. \n",
    "\n",
    "**Gamate-level tracking** A better way of generating a mating table in diploids is to track parental frequencies at the gamete level. There are only two possible gametes $A$ and $S$ per parent, so that we only have a mating table with $2\\times2=4$ rows, which is substantially simplier.\n",
    "\n",
    "**Bottom line**: choosing a sensible time point at which one tracks allele frequencies can simplify the dynamics considerably. However, be aware that this only works when there is random mating and no interactions between parents of a different genotype (such as biparental care, where the quality of care given depends on both parental genotypes).\n",
    "\n",
    "Ok, enough talk, here the mating table:\n",
    "\n",
    "|Gamete 1|Gamete 2|$\\text{Pr}\\left(\\text{Gamete 1},\\text{Gamete 2}\\right)$|Offspring fitness|$\\text{Pr}\\left(A \\text{ in offspring} \\mid \\text{Gamete 1},\\text{Gamete 2} \\right)$|$\\text{Pr}\\left(S \\text{ in offspring} \\mid \\text{Gamete 1},\\text{Gamete 2} \\right)$|\n",
    "|:-----:|:-----:|:-----:|:-----------:|:----------:|:-------------:|\n",
    "|$A$|$A$|$p^{2}$|$w_{AA}$|$1$|$0$|\n",
    "|$A$|$S$|$p (1-p)$|$w_{AS}$|$\\frac{1}{2}$|$\\frac{1}{2}$|\n",
    "|$S$|$A$|$p (1-p)$|$w_{AS}$|$\\frac{1}{2}$|$\\frac{1}{2}$|\n",
    "|$S$|$S$|$(1-p)^{2}$|$w_{SS}$|$0$|$1$|"
   ]
  },
  {
   "cell_type": "markdown",
   "metadata": {},
   "source": [
    "### Deriving the recursion equation $p^{\\prime}$\n",
    "Following the recipe in Box 1.5 of McE&B on p31, we need to (i) sum all the probabilities of producing an $A$-bearing offspring and (ii) divide this by the sum of probabilities of producing an $A$ or an $S$ offspring (see also the answer to Exercise 2 above). Hence we have\n",
    "\\begin{align}\n",
    "p^{\\prime} &= \\frac{p^{2} w_{AA} \\cdot 1 + p (1-p) w_{AS} \\cdot \\frac{1}{2} + p (1-p) w_{AS} \\cdot \\frac{1}{2} + (1-p)^{2} w_{SS} \\cdot 0}{\n",
    "p^{2} w_{AA} + p (1-p) w_{AS} + p (1-p) w_{AS} +  (1-p)^{2} w_{SS}}.\n",
    "\\end{align}\n",
    "or\n",
    "\\begin{align}\n",
    "p^{\\prime} &= \\frac{p^{2} w_{AA} + p (1-p) w_{AS}}{\n",
    "p^{2} w_{AA} + 2 p (1-p) w_{AS} +  (1-p)^{2} w_{SS}}.\n",
    "\\end{align}"
   ]
  },
  {
   "cell_type": "markdown",
   "metadata": {},
   "source": [
    "### Derive the difference equation $\\Delta p$ step-by-step\n",
    "\n",
    "Now, let us derive the diploid difference equation $\\Delta p = p^{\\prime} - p$ by subtracting $p$ from both sides in the recursion above. We then have\n",
    "\n",
    "\\begin{align}\n",
    "\\Delta p &= p^{\\prime} - p\\\\\n",
    "&=\\frac{p^{2} w_{AA} + p (1-p) w_{AS}}{\n",
    "p^{2} w_{AA} + 2 p (1-p) w_{AS} +  (1-p)^{2} w_{SS}} - p.\n",
    "\\end{align}\n",
    "\n",
    "We want to bring the trailing $-p$ on the right-hand side (rhs) under the same denominator as the first term on the rhs, by multiplying $-p$ by $\\frac{p^{2} w_{AA} + 2 p (1-p) w_{AS} +  (1-p)^{2} w_{SS}}{p^{2} w_{AA} + 2 p (1-p) w_{AS} +  (1-p)^{2} w_{SS}} = 1$, or\n",
    "\n",
    "\\begin{align}\n",
    "\\Delta p &= \\frac{p^{2} w_{AA} + p (1-p) w_{AS}}{\n",
    "p^{2} w_{AA} + 2 p (1-p) w_{AS} +  (1-p)^{2} w_{SS}} - p \\frac{p^{2} w_{AA} + 2 p (1-p) w_{AS} +  (1-p)^{2} w_{SS}}{p^{2} w_{AA} + 2 p (1-p) w_{AS} +  (1-p)^{2} w_{SS}}\n",
    "\\end{align}\n",
    "\n",
    "Writing $\\Delta p$ as a single fraction\n",
    "\\begin{align}\n",
    "\\Delta p &= \\frac{p^{2} w_{AA} + p (1-p) w_{AS} - p \\left [ p^{2} w_{AA} + 2 p (1-p) w_{AS} +  (1-p)^{2} w_{SS} \\right ]}{\n",
    "p^{2} w_{AA} + 2 p (1-p) w_{AS} +  (1-p)^{2} w_{SS}}.\n",
    "\\end{align}\n",
    "\n",
    "Separating out terms of $p$, we have\n",
    "\\begin{align}\n",
    "\\Delta p &= p \\frac{p w_{AA} + (1-p) w_{AS} - \\left [ p^{2} w_{AA} + 2 p (1-p) w_{AS} + (1-p)^{2} w_{SS} \\right ] }{\n",
    "p^{2} w_{AA} + 2 p (1-p) w_{AS} +  (1-p)^{2} w_{SS}} \\\\\n",
    "&= p \\frac{p w_{AA} + (1-p) w_{AS} -  p^{2} w_{AA} - 2 p (1-p) w_{AS} - (1-p)^{2} w_{SS} }{\n",
    "p^{2} w_{AA} + 2 p (1-p) w_{AS} +  (1-p)^{2} w_{SS}}.\n",
    "\\end{align}\n",
    "\n",
    "Collecting terms involving $w_{AA}$ (i.e., $p w_{AA} - p^{2}w_{AA}$)  and $w_{AS}$ (i.e., $(1-p) w_{AS} - 2 p (1-p) w_{AS}$), we have\n",
    "\n",
    "\\begin{align}\n",
    "\\Delta p &= p \\frac{\\left (p - p^{2} \\right) w_{AA} + (1-p) ( 1 - 2 p ) w_{AS} - (1-p)^{2} w_{SS} }{\n",
    "p^{2} w_{AA} + 2 p (1-p) w_{AS} +  (1-p)^{2} w_{SS}}.\n",
    "\\end{align}\n",
    "\n",
    "Noting that $p-p^{2} = p (1-p)$, we write\n",
    "\\begin{align}\n",
    "\\Delta p &= p \\frac{ p (1-p) w_{AA} + (1-p) ( 1 - 2 p ) w_{AS} - (1-p)^{2} w_{SS} }{\n",
    "p^{2} w_{AA} + 2 p (1-p) w_{AS} +  (1-p)^{2} w_{SS}}.\n",
    "\\end{align}\n",
    "\n",
    "Hence, all terms within the numerator are now factors of $1-p$, allowing us to separate out $1-p$ in front:\n",
    "\n",
    "\\begin{align}\n",
    "\\Delta p &= p (1-p) \\frac{ p w_{AA}  + ( 1 - 2 p ) w_{AS} - (1-p) w_{SS} }{\n",
    "p^{2} w_{AA} + 2 p (1-p) w_{AS} +  (1-p)^{2} w_{SS}}.\n",
    "\\end{align}\n",
    "\n",
    "Noting that we can write $1-2p = 1 - p - p$, we have\n",
    "\\begin{align}\n",
    "\\Delta p &= p (1-p) \\frac{ p w_{AA} + (1-p) w_{AS} - \\left [p w_{AS} + (1-p) w_{SS} \\right ] }{\n",
    "p^{2} w_{AA} + 2 p (1-p) w_{AS} +  (1-p)^{2} w_{SS}}.\n",
    "\\end{align}\n",
    "and we are done.\n"
   ]
  },
  {
   "cell_type": "markdown",
   "metadata": {},
   "source": [
    "### Answer to 4a\n",
    "We can now compare the final equation above with the equation in the exercise:\n",
    "\\begin{align}\n",
    "\\Delta p &= p (1-p) \\frac{w_{A} - w_{S}}{\\bar{w}}\n",
    "\\end{align}\n",
    "where we write \n",
    "\\begin{align}\n",
    "w_{A} &= p w_{AA} + (1-p) w_{AS}\\\\\n",
    "w_{S} &= p w_{AS} + (1-p) w_{SS}\\\\\n",
    "\\bar{w} &= p^{2} w_{AA} + 2 p (1-p) w_{AS} +  (1-p)^{2} w_{SS}\n",
    "\\end{align}\n",
    "\n",
    "This makes sense as $w_{A}$ can be considered the average fitness of an $A$ allele, averaged over the events where the $A$ allele is joined together with another $A$ allele (with probability $p$) so that its fitness is $w_{AA}$. Alternatively, the $A$ allele is joined together with a $S$ allele (with probability $1-p$) so that its fitness is $w_{AS}$. \n",
    "\n",
    "The same reasoning can be applies to the derivation of $w_{S}$. \n",
    "The derivation of $\\bar{w}$ is simply the average the fitness of all genotypes at Hardy-Weinberg frequencies."
   ]
  },
  {
   "cell_type": "markdown",
   "metadata": {},
   "source": [
    "### Answer to 4a in sympy\n",
    "\n",
    "We can also find the recursion (and the subsequent difference equation) using sympy. We first declare additional symbols:"
   ]
  },
  {
   "cell_type": "code",
   "execution_count": 143,
   "metadata": {},
   "outputs": [],
   "source": [
    "wAA, wAS, wSS = symbols(\"wAA wAS wSS\")"
   ]
  },
  {
   "cell_type": "code",
   "execution_count": 144,
   "metadata": {},
   "outputs": [
    {
     "data": {
      "image/png": "[encoded data removed]",
      "text/latex": [
       "$\\displaystyle \\frac{p^{2} wAA + p wAS \\left(1 - p\\right)}{p^{2} wAA + 2 p wAS \\left(1 - p\\right) + wSS \\left(1 - p\\right)^{2}}$"
      ],
      "text/plain": [
       "          2                            \n",
       "         p ⋅wAA + p⋅wAS⋅(1 - p)        \n",
       "───────────────────────────────────────\n",
       " 2                                    2\n",
       "p ⋅wAA + 2⋅p⋅wAS⋅(1 - p) + wSS⋅(1 - p) "
      ]
     },
     "execution_count": 144,
     "metadata": {},
     "output_type": "execute_result"
    }
   ],
   "source": [
    "pt1 = (p**2 * wAA + p*(1-p)*wAS)/(p**2 * wAA + p*(1-p)*wAS + p*(1-p)*wAS + (1-p)**2 * wSS)\n",
    "\n",
    "pt1"
   ]
  },
  {
   "cell_type": "markdown",
   "metadata": {},
   "source": [
    "Calculating the difference equation, by simplifying $p^{\\prime} - p$ gets us somewhere halfway, as the numerator could still be simplified further:"
   ]
  },
  {
   "cell_type": "code",
   "execution_count": 145,
   "metadata": {},
   "outputs": [
    {
     "data": {
      "image/png": "[encoded data removed]",
      "text/latex": [
       "$\\displaystyle - \\frac{p \\left(p - 1\\right) \\left(p wAA - 2 p wAS + p wSS + wAS - wSS\\right)}{p^{2} wAA - 2 p^{2} wAS + p^{2} wSS + 2 p wAS - 2 p wSS + wSS}$"
      ],
      "text/plain": [
       " -p⋅(p - 1)⋅(p⋅wAA - 2⋅p⋅wAS + p⋅wSS + wAS - wSS)   \n",
       "────────────────────────────────────────────────────\n",
       " 2          2        2                              \n",
       "p ⋅wAA - 2⋅p ⋅wAS + p ⋅wSS + 2⋅p⋅wAS - 2⋅p⋅wSS + wSS"
      ]
     },
     "execution_count": 145,
     "metadata": {},
     "output_type": "execute_result"
    }
   ],
   "source": [
    "ans4a1=factor(pt1-p)\n",
    "\n",
    "ans4a1"
   ]
  },
  {
   "cell_type": "markdown",
   "metadata": {},
   "source": [
    "Unfortunately, further simplifying is not possible in `sympy`."
   ]
  },
  {
   "cell_type": "markdown",
   "metadata": {},
   "source": [
    "### Exercise 4b: finding equilibria\n",
    "Find the equilibria of the system. To do so, we set $\\Delta p = 0$ and substitute for $p=\\hat{p}$:\n",
    "\n",
    "\\begin{align}\n",
    "\\Delta p &= \\hat{p} \\left (1-\\hat{p} \\right ) \\frac{ \\hat{p} w_{AA} + (1-\\hat{p}) w_{AS} - \\left [\\hat{p} w_{AS} + (1-\\hat{p}) w_{SS} \\right ] }{\n",
    "\\hat{p}^{2} w_{AA} + 2 \\hat{p} (1-\\hat{p}) w_{AS} +  (1-\\hat{p})^{2} w_{SS}} = 0\\\\\n",
    "\\end{align}\n",
    "\n",
    "Dividing out the strictly positive term \\begin{align}\\hat{p} \\left (1-\\hat{p} \\right ) / \\bar{w} = \\frac{\\hat{p} \\left (1-\\hat{p} \\right )}{\n",
    "\\hat{p}^{2} w_{AA} + 2 \\hat{p} (1-\\hat{p}) w_{AS} +  (1-\\hat{p})^{2} w_{SS}}\\end{align} \n",
    "from the equation above (these terms yield the equilibria $\\hat{p}=0,1$) we have\n",
    "\n",
    "\\begin{align}\n",
    "\\hat{p} w_{AA} + (1-\\hat{p}) w_{AS} - \\left [\\hat{p} w_{AS} + (1-\\hat{p}) w_{SS} \\right ]  = 0.\n",
    "\\end{align}\n",
    "\n",
    "Collecting factors of $p$:\n",
    "\\begin{align}\n",
    "\\hat{p} \\left [ w_{AA} - 2 w_{AS} + w_{SS} \\right ] + w_{AS} - w_{SS} = 0.\n",
    "\\end{align}\n",
    "\n",
    "Subtracting $w_{AS} - w_{SS}$ from both sides:\n",
    "\\begin{align}\n",
    "\\hat{p} \\left [ w_{AA} - 2 w_{AS} + w_{SS} \\right ] = - w_{AS} + w_{SS} \n",
    "\\end{align}\n",
    "\n",
    "Dividing by $w_{AA} - 2 w_{AS} + w_{SS}$:\n",
    "\\begin{align}\n",
    "\\hat{p} = \\frac{- w_{AS} + w_{SS}}{ w_{AA} - 2 w_{AS} + w_{SS}}\n",
    "\\end{align}\n",
    "\n",
    "Multiplying both sides by $\\frac{-1}{-1} = 1$:\n",
    "\\begin{align}\n",
    "\\hat{p} = \\frac{w_{AS} - w_{SS}}{ -w_{AA} + 2 w_{AS} - w_{SS}}\n",
    "\\end{align}\n",
    "\n",
    "Hence our three equilibria are:\n",
    "\\begin{align}\n",
    "\\hat{p} &= 0 \\\\\n",
    "\\hat{p} &= 1 \\\\\n",
    "\\hat{p} &= \\frac{w_{AS} - w_{SS}}{ -w_{AA} + 2 w_{AS} - w_{SS}}\n",
    "\\end{align}"
   ]
  },
  {
   "cell_type": "markdown",
   "metadata": {},
   "source": [
    "### Exercise 4b in `sympy`"
   ]
  },
  {
   "cell_type": "markdown",
   "metadata": {},
   "source": [
    "We use the solve command on the previously found difference equation, which is contained in the variable `ans4a1`:"
   ]
  },
  {
   "cell_type": "code",
   "execution_count": 146,
   "metadata": {},
   "outputs": [
    {
     "data": {
      "image/png": "[encoded data removed]",
      "text/latex": [
       "$\\displaystyle \\left[ 0, \\  1, \\  \\frac{- wAS + wSS}{wAA - 2 wAS + wSS}\\right]$"
      ],
      "text/plain": [
       "⎡          -wAS + wSS   ⎤\n",
       "⎢0, 1, ─────────────────⎥\n",
       "⎣      wAA - 2⋅wAS + wSS⎦"
      ]
     },
     "execution_count": 146,
     "metadata": {},
     "output_type": "execute_result"
    }
   ],
   "source": [
    "ex4b_equilibria=solve(ans4a1,p)\n",
    "\n",
    "ex4b_equilibria"
   ]
  },
  {
   "cell_type": "markdown",
   "metadata": {},
   "source": [
    "which are our three equilibria."
   ]
  },
  {
   "cell_type": "markdown",
   "metadata": {},
   "source": [
    "### Exercise 4c\n",
    "Produce two graphs that plot the dynamics of the diploid system for all values of $p$ (I guess McE&B mean a cobweb plot again). The first graph assumes $w_{AA}=0.9$, $w_{AS} = 1$ and $w_{SS} = 0.5$. Here goes:"
   ]
  },
  {
   "cell_type": "code",
   "execution_count": 147,
   "metadata": {},
   "outputs": [
    {
     "data": {
      "image/png": "[encoded data removed]",
      "text/latex": [
       "$\\displaystyle 0.5588235294117647$"
      ],
      "text/plain": [
       "0.5588235294117647"
      ]
     },
     "execution_count": 147,
     "metadata": {},
     "output_type": "execute_result"
    }
   ],
   "source": [
    "# define a function that gives the diploid recursion equation\n",
    "# defining means not yet using, but just building the function for later use\n",
    "def diploid_recursion(px, wAA, wAS, wSS):\n",
    "    return((px**2*wAA + px*(1-px)*wAS)/(px**2*wAA + 2*px*(1-px)*wAS + (1-px)**2*wSS))\n",
    "\n",
    "# now give the actual function a test, just for one value of p, we should get a value between 0 and 1:\n",
    "diploid_recursion(px=0.5, wAA=0.9, wAS=1, wSS=0.5)"
   ]
  },
  {
   "cell_type": "markdown",
   "metadata": {},
   "source": [
    "#### Ex4c: First graph"
   ]
  },
  {
   "cell_type": "markdown",
   "metadata": {},
   "source": [
    "Now use `plot_cobweb()` (see above) to plot the dynamics of the diploid recursion:"
   ]
  },
  {
   "cell_type": "code",
   "execution_count": 148,
   "metadata": {},
   "outputs": [
    {
     "data": {
      "image/png": "[encoded data removed]",
      "text/plain": [
       "<Figure size 600x450 with 1 Axes>"
      ]
     },
     "metadata": {
      "needs_background": "light"
     },
     "output_type": "display_data"
    }
   ],
   "source": [
    "plot_cobweb(f=diploid_recursion,\n",
    "            parameters={\"wAA\":0.9,\"wAS\":1,\"wSS\":0.5},\n",
    "            starting_value=0.2,\n",
    "            xrange=(0,1))"
   ]
  },
  {
   "cell_type": "markdown",
   "metadata": {},
   "source": [
    "You see that the iteration stops near the point $\\hat{p}\\approx 0.8$ which is no coincidence because the equilibrium $\\left . \\frac{w_{AS} - w_{SS}}{ -w_{AA} + 2 w_{AS} - w_{SS}} \\right |_{w_{AA} = 0.9,w_{AS}=1,w_{SS}=0.5} = 0.83333$. To find this exact value of the internal equilibrium, let's substitute for parameters in the equilibria found by sympy above, by using sympy's [`subs()`](https://docs.sympy.org/latest/modules/core.html#sympy.core.basic.Basic.subs) function:"
   ]
  },
  {
   "cell_type": "code",
   "execution_count": 149,
   "metadata": {},
   "outputs": [
    {
     "data": {
      "image/png": "[encoded data removed]",
      "text/latex": [
       "$\\displaystyle 0.833333333333333$"
      ],
      "text/plain": [
       "0.833333333333333"
      ]
     },
     "execution_count": 149,
     "metadata": {},
     "output_type": "execute_result"
    }
   ],
   "source": [
    "# take the intermediate equilibrium out of the list of equilibria\n",
    "# it is located at the 3rd position, which can be found at index [2]\n",
    "# as python starts to count from 0:\n",
    "intermediate_equilibrium = ex4b_equilibria[2]\n",
    "\n",
    "intermediate_equilibrium.subs({\"wAA\":0.9,\"wAS\":1,\"wSS\":0.5})"
   ]
  },
  {
   "cell_type": "markdown",
   "metadata": {},
   "source": [
    "Hence evolution stops at a internal (also called 'polymorphic') equilibrium ($0<\\hat{p}<1$) where both alleles $A$ and $S$ are maintained. This is because the fitness of the heterozygote $w_{AS}$ is higher than that of both heterozygotes, $w_{AA}$ and $w_{SS}$."
   ]
  },
  {
   "cell_type": "markdown",
   "metadata": {},
   "source": [
    "#### Ex4c: Second graph"
   ]
  },
  {
   "cell_type": "code",
   "execution_count": 150,
   "metadata": {},
   "outputs": [
    {
     "data": {
      "image/png": "[encoded data removed]",
      "text/plain": [
       "<Figure size 600x450 with 1 Axes>"
      ]
     },
     "metadata": {
      "needs_background": "light"
     },
     "output_type": "display_data"
    }
   ],
   "source": [
    "plot_cobweb(f=diploid_recursion,\n",
    "            parameters={\"wAA\":0.9,\"wAS\":0.75,\"wSS\":0.5},\n",
    "            starting_value=0.2,\n",
    "            xrange=(0,1))"
   ]
  },
  {
   "cell_type": "markdown",
   "metadata": {},
   "source": [
    "We see now that evolution progresses all the way to the monomorphic equilibrium $\\hat{p} = 1$ where $A$ is the only allele that persists. This is because the fitness of the $A$ homozygote, $w_{AA}$, is higher than the fitnesses of the two other genotypes."
   ]
  },
  {
   "cell_type": "markdown",
   "metadata": {},
   "source": [
    "### Exercise 4d\n",
    "Use the graphical method to prove that the internal equilibrium is only stable when $w_{AS}>w_{AA},w_{SS}$.\n",
    "\n",
    "Sorry but I will just calculate stability analytically and be done with it. Here goes:\n",
    "\n",
    "\n",
    "First calculate the derivative $\\frac{\\mathrm{d} p^{\\prime}}{\\mathrm{d} p}$, where we previously computed $p^{\\prime}$ in the variable `pt1`:"
   ]
  },
  {
   "cell_type": "code",
   "execution_count": 151,
   "metadata": {},
   "outputs": [
    {
     "data": {
      "image/png": "[encoded data removed]",
      "text/latex": [
       "$\\displaystyle \\frac{p^{2} wAA wAS - 2 p^{2} wAA wSS + p^{2} wAS wSS + 2 p wAA wSS - 2 p wAS wSS + wAS wSS}{\\left(p^{2} wAA - 2 p^{2} wAS + p^{2} wSS + 2 p wAS - 2 p wSS + wSS\\right)^{2}}$"
      ],
      "text/plain": [
       " 2              2            2                                              \n",
       "p ⋅wAA⋅wAS - 2⋅p ⋅wAA⋅wSS + p ⋅wAS⋅wSS + 2⋅p⋅wAA⋅wSS - 2⋅p⋅wAS⋅wSS + wAS⋅wSS\n",
       "────────────────────────────────────────────────────────────────────────────\n",
       "                                                                2           \n",
       "          ⎛ 2          2        2                              ⎞            \n",
       "          ⎝p ⋅wAA - 2⋅p ⋅wAS + p ⋅wSS + 2⋅p⋅wAS - 2⋅p⋅wSS + wSS⎠            "
      ]
     },
     "execution_count": 151,
     "metadata": {},
     "output_type": "execute_result"
    }
   ],
   "source": [
    "dpt1_dp=factor(diff(pt1,p))\n",
    "\n",
    "dpt1_dp"
   ]
  },
  {
   "cell_type": "markdown",
   "metadata": {},
   "source": [
    "Now substitute for $p = \\hat{p} = \\frac{w_{AS} - w_{SS}}{ -w_{AA} + 2 w_{AS} - w_{SS}}$:"
   ]
  },
  {
   "cell_type": "code",
   "execution_count": 152,
   "metadata": {},
   "outputs": [
    {
     "data": {
      "image/png": "[encoded data removed]",
      "text/latex": [
       "$\\displaystyle \\frac{\\frac{wAA wAS \\left(wAS - wSS\\right)^{2}}{\\left(- wAA + 2 wAS - wSS\\right)^{2}} - \\frac{2 wAA wSS \\left(wAS - wSS\\right)^{2}}{\\left(- wAA + 2 wAS - wSS\\right)^{2}} + \\frac{2 wAA wSS \\left(wAS - wSS\\right)}{- wAA + 2 wAS - wSS} + \\frac{wAS wSS \\left(wAS - wSS\\right)^{2}}{\\left(- wAA + 2 wAS - wSS\\right)^{2}} - \\frac{2 wAS wSS \\left(wAS - wSS\\right)}{- wAA + 2 wAS - wSS} + wAS wSS}{\\left(\\frac{wAA \\left(wAS - wSS\\right)^{2}}{\\left(- wAA + 2 wAS - wSS\\right)^{2}} - \\frac{2 wAS \\left(wAS - wSS\\right)^{2}}{\\left(- wAA + 2 wAS - wSS\\right)^{2}} + \\frac{2 wAS \\left(wAS - wSS\\right)}{- wAA + 2 wAS - wSS} + \\frac{wSS \\left(wAS - wSS\\right)^{2}}{\\left(- wAA + 2 wAS - wSS\\right)^{2}} - \\frac{2 wSS \\left(wAS - wSS\\right)}{- wAA + 2 wAS - wSS} + wSS\\right)^{2}}$"
      ],
      "text/plain": [
       "                    2                        2                                \n",
       " wAA⋅wAS⋅(wAS - wSS)    2⋅wAA⋅wSS⋅(wAS - wSS)    2⋅wAA⋅wSS⋅(wAS - wSS)    wAS⋅\n",
       "───────────────────── - ────────────────────── + ───────────────────── + ─────\n",
       "                    2                       2      -wAA + 2⋅wAS - wSS         \n",
       "(-wAA + 2⋅wAS - wSS)    (-wAA + 2⋅wAS - wSS)                             (-wAA\n",
       "──────────────────────────────────────────────────────────────────────────────\n",
       "                                                                              \n",
       "    ⎛                  2                        2                             \n",
       "    ⎜   wAA⋅(wAS - wSS)        2⋅wAS⋅(wAS - wSS)     2⋅wAS⋅(wAS - wSS)       w\n",
       "    ⎜───────────────────── - ───────────────────── + ────────────────── + ────\n",
       "    ⎜                    2                       2   -wAA + 2⋅wAS - wSS       \n",
       "    ⎝(-wAA + 2⋅wAS - wSS)    (-wAA + 2⋅wAS - wSS)                         (-wA\n",
       "\n",
       "               2                                  \n",
       "wSS⋅(wAS - wSS)    2⋅wAS⋅wSS⋅(wAS - wSS)          \n",
       "──────────────── - ───────────────────── + wAS⋅wSS\n",
       "               2     -wAA + 2⋅wAS - wSS           \n",
       " + 2⋅wAS - wSS)                                   \n",
       "──────────────────────────────────────────────────\n",
       "                                             2    \n",
       "              2                             ⎞     \n",
       "SS⋅(wAS - wSS)      2⋅wSS⋅(wAS - wSS)       ⎟     \n",
       "───────────────── - ────────────────── + wSS⎟     \n",
       "                2   -wAA + 2⋅wAS - wSS      ⎟     \n",
       "A + 2⋅wAS - wSS)                            ⎠     "
      ]
     },
     "execution_count": 152,
     "metadata": {},
     "output_type": "execute_result"
    }
   ],
   "source": [
    "dpt1_dp_internal=dpt1_dp.subs(p,(wAS-wSS)/(2*wAS - wAA - wSS))\n",
    "\n",
    "dpt1_dp_internal"
   ]
  },
  {
   "cell_type": "markdown",
   "metadata": {},
   "source": [
    "Woah, complicated. Let's use [`factor()`](https://docs.sympy.org/latest/modules/core.html#sympy.core.expr.Expr.factor) to simplify this expression:"
   ]
  },
  {
   "cell_type": "code",
   "execution_count": 153,
   "metadata": {},
   "outputs": [
    {
     "data": {
      "image/png": "[encoded data removed]",
      "text/latex": [
       "$\\displaystyle - \\frac{wAA wAS - 2 wAA wSS + wAS wSS}{wAA wSS - wAS^{2}}$"
      ],
      "text/plain": [
       "-(wAA⋅wAS - 2⋅wAA⋅wSS + wAS⋅wSS) \n",
       "─────────────────────────────────\n",
       "                       2         \n",
       "          wAA⋅wSS - wAS          "
      ]
     },
     "execution_count": 153,
     "metadata": {},
     "output_type": "execute_result"
    }
   ],
   "source": [
    "factor(dpt1_dp_internal)"
   ]
  },
  {
   "cell_type": "markdown",
   "metadata": {},
   "source": [
    "Still rather complicated. Are there any other ways to know the stability of the internal equilibrium? Yes, by looking at the stability of both monomorphic equilibria $\\hat{p} = 0$ and $\\hat{p} = 1$. For $\\hat{p} = 0$, the value of the derivative $\\left . \\frac{\\mathrm{d}p^{\\prime}}{\\mathrm{d} p} \\right |_{p = \\hat{p} = 0}$ is:"
   ]
  },
  {
   "cell_type": "code",
   "execution_count": 154,
   "metadata": {},
   "outputs": [
    {
     "data": {
      "image/png": "[encoded data removed]",
      "text/latex": [
       "$\\displaystyle \\frac{wAS}{wSS}$"
      ],
      "text/plain": [
       "wAS\n",
       "───\n",
       "wSS"
      ]
     },
     "execution_count": 154,
     "metadata": {},
     "output_type": "execute_result"
    }
   ],
   "source": [
    "dpt1_dp_pure0=dpt1_dp.subs(p,0)\n",
    "\n",
    "dpt1_dp_pure0"
   ]
  },
  {
   "cell_type": "markdown",
   "metadata": {},
   "source": [
    "Aha, when $w_{AS} \\geq w_{SS}$ then  $\\left . \\frac{\\mathrm{d}p^{\\prime}}{\\mathrm{d} p} \\right |_{p = \\hat{p} = 0} \\geq 1$, so then $\\hat{p}$ is unstable. Now do the same for $\\hat{p} = 1$:"
   ]
  },
  {
   "cell_type": "code",
   "execution_count": 155,
   "metadata": {},
   "outputs": [
    {
     "data": {
      "image/png": "[encoded data removed]",
      "text/latex": [
       "$\\displaystyle \\frac{wAS}{wAA}$"
      ],
      "text/plain": [
       "wAS\n",
       "───\n",
       "wAA"
      ]
     },
     "execution_count": 155,
     "metadata": {},
     "output_type": "execute_result"
    }
   ],
   "source": [
    "dpt1_dp_pure1=dpt1_dp.subs(p,1)\n",
    "\n",
    "dpt1_dp_pure1"
   ]
  },
  {
   "cell_type": "markdown",
   "metadata": {},
   "source": [
    "Aha, when $w_{AS} \\geq w_{AA}$ then  $\\left . \\frac{\\mathrm{d}p^{\\prime}}{\\mathrm{d} p} \\right |_{p = \\hat{p} = 1} \\geq 1$, so then $\\hat{p}$ is unstable.\n",
    "\n",
    "Hence the internal equilibrium is stable when both monomorphic equilibria are unstable. This is the case when $w_{AS}>w_{AA},w_{SS}$. This makes sense as when the heterozygote has a greater fitness, selection will favor maintenance of both $A$ and $S$ in one and the same individual, resulting in polymorphism."
   ]
  },
  {
   "cell_type": "markdown",
   "metadata": {},
   "source": [
    "# Exercise 5\n",
    "\n",
    "So, we have two seasons, wet and dry, which I give subscripts $w$ and $d$ respectively. \n",
    "\n",
    "### Specifying recursions for dry and wet seasons\n",
    "In the dry season, we have the recursion\n",
    "\n",
    "\\begin{align}\n",
    "p^{\\prime} = \\frac{p w_{A,d}}{\\bar{w}_{d}},\n",
    "\\end{align}\n",
    "where $\\bar{w}_{d} = p w_{A,d} + (1-p) w_{B,d}$. \n",
    "\n",
    "In the following wet season, we have the recursion\n",
    "\\begin{align}\n",
    "p^{\\prime \\prime} &=\\frac{ p^{\\prime} w_{A,w} }{\\bar{w}_{w}\\left(p^{\\prime}\\right)},\n",
    "\\end{align}\n",
    "where $\\bar{w}_{w}\\left(p^{\\prime}\\right) = p^{\\prime} w_{A,w} + \\left (1 - p^{\\prime} \\right ) w_{B,w}$.  \n",
    "I write $\\bar{w}_{w}\\left(p^{\\prime}\\right)$ to not have us forget that this is a function of $p^{\\prime}$ rather than $p$.\n",
    "\n",
    "### Writing the recursion in terms of $p$ rather than $p^{\\prime}$\n",
    "Substituting for $p^{\\prime} = \\frac{p w_{A,d}}{\\bar{w}_{d}}$ in the numerator of the equation for $p^{\\prime \\prime}$, we have\n",
    "\\begin{align}\n",
    "p^{\\prime \\prime} &=\\frac{ p w_{A,d} w_{A,w} }{\\bar{w}_{d} \\bar{w}_{w}\\left(p^{\\prime}\\right)}.\n",
    "\\end{align}\n",
    "\n",
    "To further simplify, let us write $\\bar{w}_{w}\\left(p^{\\prime}\\right)$ in terms of $p$, by substituting for $p^{\\prime} = \\frac{p w_{A,d}}{\\bar{w}_{d}}$ and $1-p^{\\prime} = \\frac{(1-p) w_{B,d}}{\\bar{w}_{d}}$:\n",
    "\\begin{align}\n",
    "\\bar{w}_{w} \\left (p^{\\prime} \\right ) &= p^{\\prime} w_{A,w} + \\left (1 - p^{\\prime} \\right ) w_{B,w}\\\\\n",
    "    &= \\frac{p w_{A,d}}{\\bar{w}_{d}} w_{A,w} + \\frac{(1-p) w_{B,d}}{\\bar{w}_{d}} w_{B,w}\\quad \\text{hence, we can now write $\\bar{w}_{w}$ in terms of $p$}:\\\\\n",
    " \\bar{w}_{w}   &= \\frac{1}{\\bar{w}_{d}} \\left [p w_{A,d} w_{A,w} + (1-p) w_{B,d} w_{B,w} \\right ]\n",
    "\\end{align}\n",
    "\n",
    "Substituting  back to the expression of $p^{\\prime \\prime}$, we have\n",
    "\\begin{align}\n",
    "p^{\\prime \\prime} &=\\frac{ p w_{A,d} w_{A,w} }{p w_{A,d} w_{A,w} + (1-p) w_{B,d} w_{B,w}}.\n",
    "\\end{align}\n",
    "and we have the desired recursion."
   ]
  },
  {
   "cell_type": "markdown",
   "metadata": {},
   "source": [
    "### Write a difference equation $\\Delta p = p^{\\prime \\prime} - p$\n",
    "Subtracting $p$ we have \n",
    "\\begin{align}\n",
    "\\Delta p &=\\frac{ p w_{A,d} w_{A,w} }{p w_{A,d} w_{A,w} + (1-p) w_{B,d} w_{B,w}} - p.\n",
    "\\end{align}\n",
    "\n",
    "Bring everything under the same common denominator\n",
    "\\begin{align}\n",
    "\\Delta p &=\\frac{ p w_{A,d} w_{A,w} }{p w_{A,d} w_{A,w} + (1-p) w_{B,d} w_{B,w}} - p \\frac{p w_{A,d} w_{A,w} + (1-p) w_{B,d} w_{B,w}}{p w_{A,d} w_{A,w} + (1-p) w_{B,d} w_{B,w}}.\n",
    "\\end{align}\n",
    "\n",
    "Writing it as a single fraction:\n",
    "\\begin{align}\n",
    "\\Delta p &=\\frac{ p w_{A,d} w_{A,w} - p \\left [p w_{A,d} w_{A,w} + (1-p) w_{B,d} w_{B,w}\\right]  }{p w_{A,d} w_{A,w} + (1-p) w_{B,d} w_{B,w}}.\n",
    "\\end{align}\n",
    "\n",
    "Separating out $p$:\n",
    "\\begin{align}\n",
    "\\Delta p &=p \\frac{ w_{A,d} w_{A,w} - \\left [p w_{A,d} w_{A,w} + (1-p) w_{B,d} w_{B,w}\\right]  }{p w_{A,d} w_{A,w} + (1-p) w_{B,d} w_{B,w}} \\\\\n",
    "&=p \\frac{ w_{A,d} w_{A,w} - p w_{A,d} w_{A,w} - (1-p) w_{B,d} w_{B,w}  }{p w_{A,d} w_{A,w} + (1-p) w_{B,d} w_{B,w}}\n",
    "\\end{align}\n",
    "\n",
    "Clubbing terms of $w_{A,d} w_{A,w}$:\n",
    "\\begin{align}\n",
    "\\Delta p &=p \\frac{ w_{A,d} w_{A,w} (1 - p) - (1-p) w_{B,d} w_{B,w}  }{p w_{A,d} w_{A,w} + (1-p) w_{B,d} w_{B,w}}\n",
    "\\end{align}\n",
    "\n",
    "Separating out $1- p$:\n",
    "\\begin{align}\n",
    "\\Delta p &=p (1-p) \\frac{ w_{A,d} w_{A,w}- w_{B,d} w_{B,w}  }{p w_{A,d} w_{A,w} + (1-p) w_{B,d} w_{B,w}}\n",
    "\\end{align}\n",
    "\n",
    "And we have our difference equation.\n",
    "\n",
    "### Solve for equilibria\n",
    "We then set $\\Delta p = 0$. Looking at the equation above, we find that this holds when $\\hat{p} = 0$, $\\hat{p} = 1$ and when $w_{A,d} w_{A,w} = w_{B,d} w_{B,w}$ (i.e., no natural selection). Hence, again there are only two equilibra, just as in the haploid model without seasonality."
   ]
  },
  {
   "cell_type": "markdown",
   "metadata": {},
   "source": [
    "### Calculate stability of the equilibria in a seasonal environment\n",
    "We then calculate the stability of the equilibria for the parameter values $w_{A,d} = w_{A,w} = 1$ and $w_{B,d} = 0.2$ and $w_{B,w} = 2$. \n",
    "\n",
    "Let us calculate the derivative \n",
    "\\begin{align}\n",
    "\\frac{\\mathrm{d} p^{\\prime \\prime}}{\\mathrm{d} p} = \\frac{\\mathrm{d}}{\\mathrm{d} p}\\left [ \\frac{ p w_{A,d} w_{A,w} }{p w_{A,d} w_{A,w} + (1-p) w_{B,d} w_{B,w}} \\right ].\n",
    "\\end{align}\n",
    "\n",
    "The derivative of a fraction $f(p) = \\frac{g(p)}{h{p}}$ is \n",
    "\\begin{align}\n",
    "\\frac{\\mathrm{d}}{\\mathrm{d}p}\\left [ \\frac{g(p)}{h{p}} \\right ] = \\frac{\\frac{\\mathrm{d}g(p)}{\\mathrm{d}p} h(p) - g(p) \\frac{\\mathrm{d}h(p)}{\\mathrm{d}p}}{h(p)^{2}}.\n",
    "\\end{align}\n",
    "\n",
    "Working out terms, the numerator (here called $g(p)$) of $p^{\\prime \\prime} = \\frac{ p w_{A,d} w_{A,w} }{p w_{A,d} w_{A,w} + (1-p) w_{B,d} w_{B,w}}$ can we worked out as:\n",
    "\\begin{align}\n",
    "g(p) &=  p w_{A,d} w_{A,w}\\\\\n",
    "\\frac{\\mathrm{d}g(p)}{\\mathrm{d}p} &= w_{A,d} w_{A,w}\\\\\n",
    "\\end{align}\n",
    "while the denominator of $p^{\\prime \\prime}$ (here called $h(p)$) is worked out as:\n",
    "\\begin{align}\n",
    "h(p) &= p w_{A,d} w_{A,w} + (1-p) w_{B,d} w_{B,w}\\\\\n",
    "\\frac{\\mathrm{d}h(p)}{\\mathrm{d}p} &= w_{A,d} w_{A,w} - w_{B,d} w_{B,w}\n",
    "\\end{align}\n",
    "\n",
    "Hence, we have \n",
    "\\begin{align}\n",
    "\\frac{\\mathrm{d} p^{\\prime \\prime}}{\\mathrm{d} p} &= \\frac{\\frac{\\mathrm{d}g(p)}{\\mathrm{d}p} h(p) - g(p) \\frac{\\mathrm{d}h(p)}{\\mathrm{d}p}}{h(p)^{2}}\\\\ \n",
    "&= \\frac{w_{A,d} w_{A,w} \\left (p w_{A,d} w_{A,w} + (1-p) w_{B,d} w_{B,w}\\right) - p w_{A,d} w_{A,w}\\left (w_{A,d} w_{A,w} - w_{B,d} w_{B,w}\\right) }{\\left(p w_{A,d} w_{A,w} + (1-p) w_{B,d} w_{B,w}\\right)^{2}}\n",
    "\\end{align}\n",
    "\n",
    "Rather than simplifying, let us immediately substitute for $\\hat{p} = 0$ (substituting for terms that are 0 is always great, as it simplifies massively):\n",
    "\\begin{align}\n",
    "\\left . \\frac{\\mathrm{d} p^{\\prime \\prime}}{\\mathrm{d} p} \\right |_{\\hat{p} = 0} &= \\frac{w_{A,d} w_{A,w} w_{B,d} w_{B,w}}{\\left(w_{B,d} w_{B,w}\\right)^{2}}\\\\\n",
    "&= \\frac{w_{A,d} w_{A,w}}{w_{B,d} w_{B,w}}\n",
    "\\end{align}"
   ]
  },
  {
   "cell_type": "markdown",
   "metadata": {},
   "source": [
    "### Exercise 5: Interpretation\n",
    "Hence when $w_{A,d} w_{A,w} > w_{B,d} w_{B,w}$, the complete $B$ equilibrium ($\\hat{p} = 0$) will be unstable, as $\\left . \\frac{\\mathrm{d} p^{\\prime \\prime}}{\\mathrm{d} p} \\right |_{\\hat{p} = 0} \\geq 1$.\n",
    "\n",
    "For the parameter values $w_{A,d}=w_{A,w}=1$ and $w_{B,d}=0.2$ and $w_{B,w}$ = 2 we have $w_{A,d} w_{A,w}=1$ and $ w_{B,d} w_{B,w} = 0.4$. Hence, $w_{A,d} w_{A,w} > w_{B,d} w_{B,w}$ applies, so that $B$ will indeed be eliminated and allele $A$ prevails.\n",
    "\n",
    "How can you reconcile this with the fact that $B$ has higher average fitness? It is the product of fitness terms (i.e., the geometric mean fitness) that matters in temporally fluctating environments, rather than the weighted sum of fitness terms (i.e., the arithmetic mean). See also [Starrfelt & Kokko 2012 Biol Rev](https://doi.org/10.1111/j.1469-185X.2012.00225.x)"
   ]
  },
  {
   "cell_type": "code",
   "execution_count": null,
   "metadata": {},
   "outputs": [],
   "source": []
  }
 ],
 "metadata": {
  "kernelspec": {
   "display_name": "Python 3",
   "language": "python",
   "name": "python3"
  },
  "language_info": {
   "codemirror_mode": {
    "name": "ipython",
    "version": 3
   },
   "file_extension": ".py",
   "mimetype": "text/x-python",
   "name": "python",
   "nbconvert_exporter": "python",
   "pygments_lexer": "ipython3",
   "version": "3.7.3"
  }
 },
 "nbformat": 4,
 "nbformat_minor": 4
}
