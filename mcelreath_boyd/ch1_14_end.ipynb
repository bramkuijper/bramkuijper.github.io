{
 "cells": [
  {
   "cell_type": "markdown",
   "metadata": {},
   "source": [
    "# McElreath & Boyd ch1.4 - ch1end"
   ]
  },
  {
   "cell_type": "markdown",
   "metadata": {},
   "source": [
    "## Preliminaries\n",
    "Load [`sympy`](https://docs.sympy.org/latest/index.html) and use the [`init_printing()`](https://docs.sympy.org/latest/modules/interactive.html?highlight=init_printing#sympy.interactive.printing.init_printing) function to tell the notebook that we should print actual equations, rather than statements in computer code."
   ]
  },
  {
   "cell_type": "code",
   "execution_count": 2,
   "metadata": {},
   "outputs": [],
   "source": [
    "from sympy import *\n",
    "init_printing()"
   ]
  },
  {
   "cell_type": "markdown",
   "metadata": {},
   "source": [
    "# Explit solutions to the haploid recursion equation"
   ]
  },
  {
   "cell_type": "markdown",
   "metadata": {},
   "source": [
    "## Using `rsolve` in sympy"
   ]
  },
  {
   "cell_type": "markdown",
   "metadata": {},
   "source": [
    "Sympy's shortcomings become quickly apparent if we want to rederive eq. 1.2 on p19 of McE&B. As described [here](https://docs.sympy.org/latest/modules/solvers/solvers.html#module-sympy.solvers.recurr), we use sympy's [`rsolve()`](https://docs.sympy.org/latest/modules/solvers/solvers.html#sympy.solvers.recurr.rsolve) function to provide an explicit solution of our haploid recursion equation.\n",
    "\n",
    "First, load all relevant symbols:"
   ]
  },
  {
   "cell_type": "code",
   "execution_count": 3,
   "metadata": {},
   "outputs": [],
   "source": [
    "f, p, t, wA, wB, pinit  = symbols(\"f p t wA wB pinit\")"
   ]
  },
  {
   "cell_type": "markdown",
   "metadata": {},
   "source": [
    "We then define $p$ as a function, so that we can later write it as a function of $t$. By doing this, we can let sympy know that `p(t),p(t+1),p(t+2),...` are instances of the same function evaluated at different timepoints `t`. If we wouldn't declare `p` as a function, but just keep it as a simple symbol, sympy would think that `p(t)` is a wholly different symbol than `p(t+1)` and hence we would not be able to solve the recursion (not that we can at this moment)"
   ]
  },
  {
   "cell_type": "code",
   "execution_count": 4,
   "metadata": {},
   "outputs": [],
   "source": [
    "p = Function('p')"
   ]
  },
  {
   "cell_type": "markdown",
   "metadata": {},
   "source": [
    "`sympy` (and most numerical solvers) also requires an expression that is equal to 0. Hence, we rewrite $p_{t+1} = p_{t} \\frac{w_{A}}{\\bar{w}}$ as $p_{t+1} - p_{t} \\frac{w_{A}}{\\bar{w}} = 0$:"
   ]
  },
  {
   "cell_type": "code",
   "execution_count": 5,
   "metadata": {},
   "outputs": [
    {
     "ename": "ValueError",
     "evalue": "Polynomial or rational function expected, got '-wA/(wB + (wA - wB)*p(t))'",
     "output_type": "error",
     "traceback": [
      "\u001b[0;31m---------------------------------------------------------------------------\u001b[0m",
      "\u001b[0;31mValueError\u001b[0m                                Traceback (most recent call last)",
      "\u001b[0;32m<ipython-input-5-514f10694a58>\u001b[0m in \u001b[0;36m<module>\u001b[0;34m\u001b[0m\n\u001b[1;32m      1\u001b[0m \u001b[0mf\u001b[0m \u001b[0;34m=\u001b[0m \u001b[0mp\u001b[0m\u001b[0;34m(\u001b[0m\u001b[0mt\u001b[0m\u001b[0;34m+\u001b[0m\u001b[0;36m1\u001b[0m\u001b[0;34m)\u001b[0m \u001b[0;34m-\u001b[0m \u001b[0mp\u001b[0m\u001b[0;34m(\u001b[0m\u001b[0mt\u001b[0m\u001b[0;34m)\u001b[0m\u001b[0;34m*\u001b[0m\u001b[0mwA\u001b[0m\u001b[0;34m/\u001b[0m\u001b[0;34m(\u001b[0m\u001b[0mp\u001b[0m\u001b[0;34m(\u001b[0m\u001b[0mt\u001b[0m\u001b[0;34m)\u001b[0m\u001b[0;34m*\u001b[0m\u001b[0mwA\u001b[0m\u001b[0;34m+\u001b[0m\u001b[0;34m(\u001b[0m\u001b[0;36m1\u001b[0m\u001b[0;34m-\u001b[0m\u001b[0mp\u001b[0m\u001b[0;34m(\u001b[0m\u001b[0mt\u001b[0m\u001b[0;34m)\u001b[0m\u001b[0;34m)\u001b[0m\u001b[0;34m*\u001b[0m\u001b[0mwB\u001b[0m\u001b[0;34m)\u001b[0m\u001b[0;34m\u001b[0m\u001b[0;34m\u001b[0m\u001b[0m\n\u001b[1;32m      2\u001b[0m \u001b[0;34m\u001b[0m\u001b[0m\n\u001b[0;32m----> 3\u001b[0;31m \u001b[0mrsolve\u001b[0m\u001b[0;34m(\u001b[0m\u001b[0mf\u001b[0m\u001b[0;34m,\u001b[0m\u001b[0mp\u001b[0m\u001b[0;34m(\u001b[0m\u001b[0mt\u001b[0m\u001b[0;34m)\u001b[0m\u001b[0;34m,\u001b[0m\u001b[0;34m{\u001b[0m\u001b[0mp\u001b[0m\u001b[0;34m(\u001b[0m\u001b[0;36m0\u001b[0m\u001b[0;34m)\u001b[0m\u001b[0;34m:\u001b[0m\u001b[0mpinit\u001b[0m\u001b[0;34m}\u001b[0m\u001b[0;34m)\u001b[0m\u001b[0;34m\u001b[0m\u001b[0;34m\u001b[0m\u001b[0m\n\u001b[0m",
      "\u001b[0;32m/Library/Python/3.7/site-packages/sympy/solvers/recurr.py\u001b[0m in \u001b[0;36mrsolve\u001b[0;34m(f, y, init)\u001b[0m\n\u001b[1;32m    759\u001b[0m         \u001b[0;32melse\u001b[0m\u001b[0;34m:\u001b[0m\u001b[0;34m\u001b[0m\u001b[0;34m\u001b[0m\u001b[0m\n\u001b[1;32m    760\u001b[0m             raise ValueError(\n\u001b[0;32m--> 761\u001b[0;31m                 \"Polynomial or rational function expected, got '%s'\" % coeff)\n\u001b[0m\u001b[1;32m    762\u001b[0m \u001b[0;34m\u001b[0m\u001b[0m\n\u001b[1;32m    763\u001b[0m     \u001b[0mi_numer\u001b[0m\u001b[0;34m,\u001b[0m \u001b[0mi_denom\u001b[0m \u001b[0;34m=\u001b[0m \u001b[0mi_part\u001b[0m\u001b[0;34m.\u001b[0m\u001b[0mas_numer_denom\u001b[0m\u001b[0;34m(\u001b[0m\u001b[0;34m)\u001b[0m\u001b[0;34m\u001b[0m\u001b[0;34m\u001b[0m\u001b[0m\n",
      "\u001b[0;31mValueError\u001b[0m: Polynomial or rational function expected, got '-wA/(wB + (wA - wB)*p(t))'"
     ]
    }
   ],
   "source": [
    "f = p(t+1) - p(t)*wA/(p(t)*wA+(1-p(t))*wB)\n",
    "\n",
    "rsolve(f,p(t),{p(0):pinit})"
   ]
  },
  {
   "cell_type": "markdown",
   "metadata": {},
   "source": [
    "So an answer is pending here. Currently filing a bug report with sympy on this."
   ]
  },
  {
   "cell_type": "markdown",
   "metadata": {},
   "source": [
    "## Transforming and then finding the explicit solution using `rsolve`"
   ]
  },
  {
   "cell_type": "markdown",
   "metadata": {},
   "source": [
    "Rather than trying to explicitly solve $p_{t+1} = p_{t} \\frac{w_{A}}{p_{t} w_{A} + \\left (1-p_{t} \\right) w_{B}}$, McE&B express this recursion in a different way, by using the numbers of individuals carrying $A$ and $B$ alleles: $n_{A,t+1},n_{B,t+1}$ (see Box 1.3 of McE&B). Using tricks like going from frequencies to absolute numbers or other functions of $p_{t}$ is called a transformation and it can often substantially help solving matters.\n",
    "\n",
    "Indeed, there is even another transformation that I will discuss here, which also makes solving the haploid recursion equation much easier:\n",
    "\\begin{align}h_{t+1} = p_{t+1} / (1-p_{t+1}).\\end{align} (i.e, the ratio of frequencies of alleles $A$ and $B$).\n",
    "See pp. 195-198 in [Otto & Day](http://lib.exeter.ac.uk/record=b3991619~S6) for a nice description of different transformations in the context of the haploid recursion equation."
   ]
  },
  {
   "cell_type": "markdown",
   "metadata": {},
   "source": [
    "The transformation $h_{t+1} = p_{t+1} / \\left(1-p_{t+1} \\right)$ yields a surprisingly simple recurrence, as $\\bar{w}$ cancels out in the numerator and denominator. Let us write \\begin{align}h_{t+1} = \\frac{p_{t+1}}{1-p_{t+1}} = \\frac{p_{t}w_{A}/\\bar{w}}{(1-p_{t})w_{B}/\\bar{w}} = \\frac{p_{t}w_{A}}{(1-p_{t})w_{B}} = h_{t} \\frac{w_{A}}{w_{B}}\\end{align}"
   ]
  },
  {
   "cell_type": "markdown",
   "metadata": {},
   "source": [
    "So that we have the explicit solution of our transformed variable $h$: \\begin{align}h_{t+2} &= h_{t}\\left (\\frac{w_{A}}{w_{B}}\\right)^{2}\\quad \\text{and by iteration we get...}\\\\\n",
    "h_{t} &= h_{0} \\left (\\frac{w_{A}}{w_{B}}\\right)^{t}\n",
    "\\end{align}"
   ]
  },
  {
   "cell_type": "markdown",
   "metadata": {},
   "source": [
    "Next, we can then back-transform by writing our solution in terms of $p$ instead of $h$ by solving $h_{t} = p_{t}/(1-p_{t})$ for $p_{t}$. This yields $p_{t} = h_{t}/(1+h_{t})$. Hence we have:\n",
    "\\begin{align}\n",
    "p_{t} = \\frac{h_{t}}{1+h_{t}} &= \\frac{h_{0} \\left (\\frac{w_{A}}{w_{B}} \\right )^{t}}{1 + h_{0} \\left (\\frac{w_{A}}{w_{B}} \\right )^{t}} \\\\\n",
    "&= \\frac{\\frac{p_{0}}{1-p_{0}} \\left (\\frac{w_{A}}{w_{B}} \\right )^{t}}{1 + \\frac{p_{0}}{1-p_{0}} \\left (\\frac{w_{A}}{w_{B}} \\right )^{t}} \\quad \\text{because }h_{0} = p_{0}/(1-p_{0})\\\\\n",
    "&= \\frac{1}{\\frac{1-p_{0}}{p_{0}} \\left (\\frac{w_{B}}{w_{A}} \\right )^{t} + 1} \\quad \\text{because multiplying by: } \\frac{\\frac{1-p_{0}}{p_{0}} \\left (\\frac{w_{B}}{w_{A}} \\right )^{t}}{\\frac{1-p_{0}}{p_{0}} \\left (\\frac{w_{B}}{w_{A}} \\right )^{t}}=1\\\\\n",
    "&= \\frac{1}{\\frac{n_{B,0}/n}{n_{A,0}/n} \\left (\\frac{w_{B}}{w_{A}} \\right )^{t} + 1} \\quad \\text{eq. (1.2)}\n",
    "\\end{align}"
   ]
  },
  {
   "cell_type": "markdown",
   "metadata": {},
   "source": [
    "**Bottom line**: transformations like $h_{t} = p_{t}/(1-p_{t})$ (ratio of allele frequencies) or $g(t) = p_{t} - \\hat{p}$ (distance from equilibrium allele frequency) can often be useful when finding solutions to complex recursions."
   ]
  },
  {
   "cell_type": "markdown",
   "metadata": {},
   "source": [
    "We also see that `sympy` does not choke on this transformed solution:"
   ]
  },
  {
   "cell_type": "code",
   "execution_count": 33,
   "metadata": {},
   "outputs": [
    {
     "data": {
      "image/png": "[encoded data removed]",
      "text/latex": [
       "$\\displaystyle h_{0} \\left(\\frac{wA}{wB}\\right)^{t}$"
      ],
      "text/plain": [
       "       t\n",
       "   ⎛wA⎞ \n",
       "h₀⋅⎜──⎟ \n",
       "   ⎝wB⎠ "
      ]
     },
     "execution_count": 33,
     "metadata": {},
     "output_type": "execute_result"
    }
   ],
   "source": [
    "h, h0, p0 = symbols(\"h h0 p0\")\n",
    "\n",
    "# again, define h as a function so that sympy recognizes \n",
    "#  that h(t) and h(t+1) are the same function at different timepoints \n",
    "# rather than different symbols:\n",
    "h = Function('h') \n",
    "\n",
    "# our transformed recurrence eqn, when set equal to 0 (rsolve needs things to be equal to 0, don't ask me why)\n",
    "f = h(t+1) - h(t)*wA/wB\n",
    "\n",
    "# use the rsolve() command to find the solution for begin value h0\n",
    "hsol=rsolve(f,h(t),{h(0):h0})\n",
    "\n",
    "# print the solution:\n",
    "hsol"
   ]
  },
  {
   "cell_type": "markdown",
   "metadata": {},
   "source": [
    "Now back-transform the expression of $h_{t}$ back to $p_{t}$, first by substituting for $h_{0} = p_{0} / \\left (1 - p_{0} \\right )$ in $h_{t}$:"
   ]
  },
  {
   "cell_type": "code",
   "execution_count": 34,
   "metadata": {},
   "outputs": [
    {
     "data": {
      "image/png": "[encoded data removed]",
      "text/latex": [
       "$\\displaystyle \\frac{p_{0} \\left(\\frac{wA}{wB}\\right)^{t}}{1 - p_{0}}$"
      ],
      "text/plain": [
       "       t\n",
       "   ⎛wA⎞ \n",
       "p₀⋅⎜──⎟ \n",
       "   ⎝wB⎠ \n",
       "────────\n",
       " 1 - p₀ "
      ]
     },
     "execution_count": 34,
     "metadata": {},
     "output_type": "execute_result"
    }
   ],
   "source": [
    "hsol_sub=hsol.subs(h0,p0/(1-p0))\n",
    "\n",
    "# print outcome\n",
    "hsol_sub"
   ]
  },
  {
   "cell_type": "markdown",
   "metadata": {},
   "source": [
    "Next, we calculate $p_{t} = h_{t} / \\left (1 + h_{t} \\right )$"
   ]
  },
  {
   "cell_type": "code",
   "execution_count": 35,
   "metadata": {},
   "outputs": [
    {
     "data": {
      "image/png": "[encoded data removed]",
      "text/latex": [
       "$\\displaystyle \\frac{p_{0} \\left(\\frac{wA}{wB}\\right)^{t}}{\\left(1 - p_{0}\\right) \\left(\\frac{p_{0} \\left(\\frac{wA}{wB}\\right)^{t}}{1 - p_{0}} + 1\\right)}$"
      ],
      "text/plain": [
       "               t       \n",
       "           ⎛wA⎞        \n",
       "        p₀⋅⎜──⎟        \n",
       "           ⎝wB⎠        \n",
       "───────────────────────\n",
       "         ⎛       t    ⎞\n",
       "         ⎜   ⎛wA⎞     ⎟\n",
       "         ⎜p₀⋅⎜──⎟     ⎟\n",
       "         ⎜   ⎝wB⎠     ⎟\n",
       "(1 - p₀)⋅⎜──────── + 1⎟\n",
       "         ⎝ 1 - p₀     ⎠"
      ]
     },
     "execution_count": 35,
     "metadata": {},
     "output_type": "execute_result"
    }
   ],
   "source": [
    "ptexplicit=hsol_sub/(1+hsol_sub)\n",
    "\n",
    "# print the explicit solution\n",
    "ptexplicit"
   ]
  },
  {
   "cell_type": "markdown",
   "metadata": {},
   "source": [
    "And we are done (one can check with pen and paper that this is eq. 1.2). "
   ]
  },
  {
   "cell_type": "markdown",
   "metadata": {},
   "source": [
    "### Plotting the recursion equation\n",
    "\n",
    "We can now plot the equation above:"
   ]
  },
  {
   "cell_type": "code",
   "execution_count": 44,
   "metadata": {},
   "outputs": [
    {
     "data": {
      "image/png": "[encoded data removed]",
      "text/plain": [
       "<Figure size 432x288 with 1 Axes>"
      ]
     },
     "metadata": {
      "needs_background": "light"
     },
     "output_type": "display_data"
    },
    {
     "data": {
      "text/plain": [
       "<sympy.plotting.plot.Plot at 0x11472c048>"
      ]
     },
     "execution_count": 44,
     "metadata": {},
     "output_type": "execute_result"
    }
   ],
   "source": [
    "from sympy.plotting import plot\n",
    "\n",
    "# first substitute for the parameters wA, wB \n",
    "# and the initial value p0\n",
    "ptexpl_subs = ptexplicit.subs([(wA, 1.5), (wB, 0.5),(p0,0.01)])\n",
    "\n",
    "# then plot it\n",
    "plot(ptexpl_subs, (t, 0,20), xlabel=t, ylabel=\"$p_{t}$\")"
   ]
  },
  {
   "cell_type": "markdown",
   "metadata": {},
   "source": [
    "Some warnings, but at least there is a plot. "
   ]
  },
  {
   "cell_type": "markdown",
   "metadata": {},
   "source": [
    "# Solving for equilibria (i.e., where $\\Delta p = 0$)"
   ]
  },
  {
   "cell_type": "markdown",
   "metadata": {},
   "source": [
    "Rather than solving for the explicit solution of $p_{t+1}$ as above, we will now solve for the equilibria of the haploid recurrence equation, using sympy's [`solve()`](https://docs.sympy.org/latest/modules/solvers/solvers.html#sympy.solvers.solvers.solve) function. We can use `solve(f,x)` to solve a formula `f` for equilibria of the variable `p`. In other words: solve the formula for those values of `p`, either given as functions or numbers for which `f=0`.\n",
    "\n",
    "However, to do so, `p` itself has to be a variable and not a function. In the section above, we defined `p` as a function, rather than as just a symbol. So we will first have to delete `p` from sympy's memory and then redefine it again using the `symbols()` command.\n",
    "\n",
    "\n",
    "If we have done so, we then solve the expression $\\Delta p = p(1-p)\\frac{wA-wB}{\\bar{w}} = 0$ for $p$:"
   ]
  },
  {
   "cell_type": "code",
   "execution_count": 11,
   "metadata": {},
   "outputs": [
    {
     "data": {
      "image/png": "[encoded data removed]",
      "text/latex": [
       "$\\displaystyle \\left[ 0, \\  1\\right]$"
      ],
      "text/plain": [
       "[0, 1]"
      ]
     },
     "execution_count": 11,
     "metadata": {},
     "output_type": "execute_result"
    }
   ],
   "source": [
    "# delete symbol p from memory\n",
    "del globals()[\"p\"]\n",
    "\n",
    "# redefine it as 'just' as symbol\n",
    "p = symbols(\"p\")\n",
    "\n",
    "# define delta p:\n",
    "deltap = p*(1-p)*(wA-wB)/(p*wA + (1-p)*wB)\n",
    "\n",
    "# solve() deltap == 0 for p\n",
    "# solve() automatically assumes that the formula you give it should equal 0)\n",
    "solve(deltap,p)"
   ]
  },
  {
   "cell_type": "markdown",
   "metadata": {},
   "source": [
    "Indeed, we have equilibria $\\hat{p}=0$ and $\\hat{p}=1$ where $\\hat{}$ denotes that the value of $p$ is an equilibrium."
   ]
  },
  {
   "cell_type": "markdown",
   "metadata": {},
   "source": [
    "# Cobweb plots using `matplotlib`"
   ]
  },
  {
   "cell_type": "markdown",
   "metadata": {},
   "source": [
    "While the cobweb plots in Figure 1.3 of McE&B are not a standard feature of any graphics package, a lot of code exists on the internet to easily make one. Here an example from [here](https://scipython.com/blog/cobweb-plots/). It is not necessary to understand every bit of the code below (but I'd be happy to help if you want to understand it), just the lines at the end."
   ]
  },
  {
   "cell_type": "code",
   "execution_count": 14,
   "metadata": {},
   "outputs": [
    {
     "data": {
      "image/png": "[encoded data removed]",
      "text/plain": [
       "<Figure size 600x450 with 1 Axes>"
      ]
     },
     "metadata": {
      "needs_background": "light"
     },
     "output_type": "display_data"
    },
    {
     "data": {
      "image/png": "[encoded data removed]",
      "text/plain": [
       "<Figure size 600x450 with 1 Axes>"
      ]
     },
     "metadata": {
      "needs_background": "light"
     },
     "output_type": "display_data"
    }
   ],
   "source": [
    "\n",
    "# import some packages\n",
    "\n",
    "# numpy is a numerical library in python\n",
    "# allowing one to do numerical things (random numbers, arrays, linear algebra, etc)\n",
    "# see https://numpy.org/doc/stable/user/quickstart.html\n",
    "import numpy as np\n",
    "\n",
    "# import some graphics parameters from numpy (determining font & text)\n",
    "from matplotlib import rc\n",
    "\n",
    "# some additional functions from numpy\n",
    "import matplotlib.pyplot as plt\n",
    "\n",
    "# Use LaTeX throughout the figure for consistency\n",
    "rc('font', **{'family': 'serif', 'serif': ['Computer Modern'], 'size': 16})\n",
    "rc('text', usetex=True)\n",
    "# Figure dpi\n",
    "dpi = 72\n",
    "\n",
    "def plot_cobweb(f, wA, wB, x0, nmax=40):\n",
    "    \"\"\"Make a cobweb plot.\n",
    "\n",
    "    Plot y = f(x; r) and y = x for 0 <= x <= 1, and illustrate the behaviour of\n",
    "    iterating x = f(x) starting at x = x0. r is a parameter to the function.\n",
    "\n",
    "    \"\"\"\n",
    "    x = np.linspace(0, 1, 500)\n",
    "    fig = plt.figure(figsize=(600/dpi, 450/dpi), dpi=dpi)\n",
    "    ax = fig.add_subplot(111)\n",
    "\n",
    "    # Plot y = f(x) and y = x\n",
    "    ax.plot(x, f(x, wA, wB), c='#444444', lw=2)\n",
    "    ax.plot(x, x, c='#444444', lw=2)\n",
    "\n",
    "    # Iterate x = f(x) for nmax steps, starting at (x0, 0).\n",
    "    px, py = np.empty((2,nmax+1,2))\n",
    "    px[0], py[0] = x0, 0\n",
    "    for n in range(1, nmax, 2):\n",
    "        px[n] = px[n-1]\n",
    "        py[n] = f(px[n-1], wA, wB)\n",
    "        px[n+1] = py[n]\n",
    "        py[n+1] = py[n]\n",
    "\n",
    "    # Plot the path traced out by the iteration.\n",
    "    ax.plot(px, py, c='b', alpha=0.7)\n",
    "\n",
    "    # Annotate and tidy the plot.\n",
    "    ax.minorticks_on()\n",
    "    ax.grid(which='minor', alpha=0.5)\n",
    "    ax.grid(which='major', alpha=0.5)\n",
    "    ax.set_aspect('equal')\n",
    "    ax.set_xlabel('$p(t)$')\n",
    "    ax.set_ylabel(f.latex_label)\n",
    "    ax.set_title('$x_0 = {:.1}, wA = {:.2}, wB = {:.3}$'.format(x0, wA, wB))\n",
    "\n",
    "    plt.show()\n",
    "\n",
    "class AnnotatedFunction:\n",
    "    \"\"\"A small class representing a mathematical function.\n",
    "\n",
    "    This class is callable so it acts like a Python function, but it also\n",
    "    defines a string giving its latex representation.\n",
    "\n",
    "    \"\"\"\n",
    "\n",
    "    def __init__(self, func, latex_label):\n",
    "        self.func = func\n",
    "        self.latex_label = latex_label\n",
    "\n",
    "    def __call__(self, *args, **kwargs):\n",
    "        return self.func(*args, **kwargs)\n",
    "\n",
    "# define the recursion equation as a lambda (i.e., shorthand) function: p*wA / (p*wA + (1-p)*wA)\n",
    "func = AnnotatedFunction(lambda x,wA,wB: x*wA/(x*wA+(1-x)*wB), r\"$p(t+1)$\")\n",
    "\n",
    "# now produce the cobweb plots by calling the function plot_cobweb()\n",
    "# the first argument here is the recursion equation and the other arguments\n",
    "# are the parameters wA, wB and the initial value of p, here called x0.\n",
    "plot_cobweb(f=func, wA=1.5, wB=0.5, x0=0.2)\n",
    "plot_cobweb(f=func, wA=1.5, wB=0.5, x0=0.8)"
   ]
  }
 ],
 "metadata": {
  "kernelspec": {
   "display_name": "Python 3",
   "language": "python",
   "name": "python3"
  },
  "language_info": {
   "codemirror_mode": {
    "name": "ipython",
    "version": 3
   },
   "file_extension": ".py",
   "mimetype": "text/x-python",
   "name": "python",
   "nbconvert_exporter": "python",
   "pygments_lexer": "ipython3",
   "version": "3.7.3"
  }
 },
 "nbformat": 4,
 "nbformat_minor": 4
}
